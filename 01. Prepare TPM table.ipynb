{
 "cells": [
  {
   "cell_type": "markdown",
   "metadata": {},
   "source": [
    "# Expressed genes within the Azhurnaya developmental time course (209 samples) and Chinese Spring no stress (123 samples).\n",
    "\n",
    "This notebook is used to produce the table with the mean tpms grouped by the intermediate factors. \n",
    "\n",
    "The code corresponds to the methods stated as: \n",
    "\n",
    "\"Starting from the subset of genes considered expressed using the initial 850 filter criterion, we determined genes which were expressed in at least one tissue within the Azhurnaya developmental time course (209 samples; 22 intermediate tissues) and Chinese Spring no stress (123 samples; 15 intermediate tissues) datasets. For this analysis, we first calculated the average TPM expression of each gene in each of the intermediate tissue types (average expression per tissue). The number of samples that went into generating this average expression per tissue value varied for each intermediate tissue and are available in Table S1.\n",
    "\n",
    "\"We considered a gene expressed when its average expression per tissue was > 0.5 TPM in at least one intermediate tissue. For both datasets we focused on HC gene models (10). Whilst expression data was also assessed for LC genes, we excluded these from the main analysis to avoid confounding effects from pseudogenes and low-quality gene models. Through this analysis we found evidence of expression for 83,741 (75.6%) HC genes in Azhurnaya and 82,567 (74.5%) HC genes in Chinese Spring.\n",
    "\n",
    "Using the average expression per tissue values, we also determined the global expression of each gene across all tissues in which it was expressed (based on the > 0.5 TPM criteria in the tissue). This generated an average value across tissues, rather than a geometric mean across all samples, to account for the variation in the number of samples per tissue. It also excludes tissues in which a gene is not expressed. This average across expressed tissues is referred to as either the “global analysis” or the “combined analysis (all tissues)” across the main text and in the supplementary materials and tables.\"\n",
    "\n",
    "\n"
   ]
  },
  {
   "cell_type": "code",
   "execution_count": 1,
   "metadata": {
    "collapsed": false
   },
   "outputs": [
    {
     "name": "stderr",
     "output_type": "stream",
     "text": [
      "Loading required package: gsubfn\n",
      "Loading required package: proto\n",
      "Loading required package: RSQLite\n",
      "Loading required package: spam\n",
      "Loading required package: grid\n",
      "Spam version 1.4-0 (2016-08-29) is loaded.\n",
      "Type 'help( Spam)' or 'demo( spam)' for a short introduction \n",
      "and overview of this package.\n",
      "Help for individual functions is also obtained by adding the\n",
      "suffix '.spam' to the function name, e.g. 'help( chol.spam)'.\n",
      "\n",
      "Attaching package: ‘spam’\n",
      "\n",
      "The following objects are masked from ‘package:base’:\n",
      "\n",
      "    backsolve, forwardsolve\n",
      "\n",
      "Loading required package: maps\n",
      "--\n",
      "Consider donating at: http://ggtern.com\n",
      "Even small amounts (say $10-50) are very much appreciated!\n",
      "Remember to cite, run citation(package = 'ggtern') for further info.\n",
      "--\n",
      "\n",
      "Attaching package: ‘ggtern’\n",
      "\n",
      "The following objects are masked from ‘package:gridExtra’:\n",
      "\n",
      "    arrangeGrob, grid.arrange\n",
      "\n",
      "The following objects are masked from ‘package:ggplot2’:\n",
      "\n",
      "    %+%, aes, annotate, calc_element, ggplot, ggplot_build,\n",
      "    ggplot_gtable, ggplotGrob, ggsave, layer_data, theme, theme_bw,\n",
      "    theme_classic, theme_dark, theme_gray, theme_light, theme_linedraw,\n",
      "    theme_minimal, theme_void\n",
      "\n",
      "Loading required package: magic\n",
      "Loading required package: abind\n",
      "Loading required package: gtable\n"
     ]
    }
   ],
   "source": [
    "library(sqldf)\n",
    "library(ggplot2)\n",
    "library(reshape2)\n",
    "library(fields)\n",
    "library(\"gridExtra\")\n",
    "library(ggtern)\n",
    "library(clue)\n",
    "library(geometry)\n",
    "require(gtable)"
   ]
  },
  {
   "cell_type": "code",
   "execution_count": 2,
   "metadata": {
    "collapsed": false
   },
   "outputs": [
    {
     "data": {
      "text/html": [
       "850"
      ],
      "text/latex": [
       "850"
      ],
      "text/markdown": [
       "850"
      ],
      "text/plain": [
       "[1] 850"
      ]
     },
     "metadata": {},
     "output_type": "display_data"
    },
    {
     "data": {
      "text/html": [
       "850"
      ],
      "text/latex": [
       "850"
      ],
      "text/markdown": [
       "850"
      ],
      "text/plain": [
       "[1] 850"
      ]
     },
     "metadata": {},
     "output_type": "display_data"
    },
    {
     "data": {
      "text/html": [
       "<table>\n",
       "<thead><tr><th scope=col>Sample.IDs</th><th scope=col>scientific_name</th><th scope=col>study_title</th><th scope=col>High.level.variety</th><th scope=col>High.level.tissue</th><th scope=col>High.level.age</th><th scope=col>High.level.stress.disease</th><th scope=col>Variety</th><th scope=col>Tissue</th><th scope=col>Age</th><th scope=col>Stress.disease</th><th scope=col>Comments</th><th scope=col>DOI</th><th scope=col>Intermediate</th><th scope=col>Intermediate_Stress_merged_control</th><th scope=col>Intermediate_Stress</th></tr></thead>\n",
       "<tbody>\n",
       "\t<tr><td>Sample_10              </td><td>Triticum aestivum      </td><td>Development            </td><td>BCS cv-1               </td><td>roots                  </td><td>seedling               </td><td>none                   </td><td>BCS cv-1               </td><td>radicle                </td><td>Seedling stage         </td><td>none                   </td><td>                       </td><td>                       </td><td>roots                  </td><td>NA                     </td><td>NA                     </td></tr>\n",
       "\t<tr><td>Sample_18              </td><td>Triticum aestivum      </td><td>Development            </td><td>BCS cv-1               </td><td>roots                  </td><td>seedling               </td><td>none                   </td><td>BCS cv-1               </td><td>radicle                </td><td>Seedling stage         </td><td>none                   </td><td>                       </td><td>                       </td><td>roots                  </td><td>NA                     </td><td>NA                     </td></tr>\n",
       "\t<tr><td>Sample_3A              </td><td>Triticum aestivum      </td><td>Development            </td><td>BCS cv-1               </td><td>roots                  </td><td>seedling               </td><td>none                   </td><td>BCS cv-1               </td><td>radicle                </td><td>Seedling stage         </td><td>none                   </td><td>                       </td><td>                       </td><td>roots                  </td><td>NA                     </td><td>NA                     </td></tr>\n",
       "\t<tr><td>Sample_12              </td><td>Triticum aestivum      </td><td>Development            </td><td>BCS cv-1               </td><td>leaves/shoots          </td><td>seedling               </td><td>none                   </td><td>BCS cv-1               </td><td>coleoptile             </td><td>Seedling stage         </td><td>none                   </td><td>                       </td><td>                       </td><td>seedling aerial tissues</td><td>NA                     </td><td>NA                     </td></tr>\n",
       "\t<tr><td>Sample_26              </td><td>Triticum aestivum      </td><td>Development            </td><td>BCS cv-1               </td><td>leaves/shoots          </td><td>seedling               </td><td>none                   </td><td>BCS cv-1               </td><td>coleoptile             </td><td>Seedling stage         </td><td>none                   </td><td>                       </td><td>                       </td><td>seedling aerial tissues</td><td>NA                     </td><td>NA                     </td></tr>\n",
       "\t<tr><td>Sample_6A              </td><td>Triticum aestivum      </td><td>Development            </td><td>BCS cv-1               </td><td>leaves/shoots          </td><td>seedling               </td><td>none                   </td><td>BCS cv-1               </td><td>coleoptile             </td><td>Seedling stage         </td><td>none                   </td><td>                       </td><td>                       </td><td>seedling aerial tissues</td><td>NA                     </td><td>NA                     </td></tr>\n",
       "</tbody>\n",
       "</table>\n"
      ],
      "text/latex": [
       "\\begin{tabular}{r|llllllllllllllll}\n",
       " Sample.IDs & scientific\\_name & study\\_title & High.level.variety & High.level.tissue & High.level.age & High.level.stress.disease & Variety & Tissue & Age & Stress.disease & Comments & DOI & Intermediate & Intermediate\\_Stress\\_merged\\_control & Intermediate\\_Stress\\\\\n",
       "\\hline\n",
       "\t Sample\\_10             & Triticum aestivum       & Development             & BCS cv-1                & roots                   & seedling                & none                    & BCS cv-1                & radicle                 & Seedling stage          & none                    &                         &                         & roots                   & NA                      & NA                     \\\\\n",
       "\t Sample\\_18             & Triticum aestivum       & Development             & BCS cv-1                & roots                   & seedling                & none                    & BCS cv-1                & radicle                 & Seedling stage          & none                    &                         &                         & roots                   & NA                      & NA                     \\\\\n",
       "\t Sample\\_3A             & Triticum aestivum       & Development             & BCS cv-1                & roots                   & seedling                & none                    & BCS cv-1                & radicle                 & Seedling stage          & none                    &                         &                         & roots                   & NA                      & NA                     \\\\\n",
       "\t Sample\\_12             & Triticum aestivum       & Development             & BCS cv-1                & leaves/shoots           & seedling                & none                    & BCS cv-1                & coleoptile              & Seedling stage          & none                    &                         &                         & seedling aerial tissues & NA                      & NA                     \\\\\n",
       "\t Sample\\_26             & Triticum aestivum       & Development             & BCS cv-1                & leaves/shoots           & seedling                & none                    & BCS cv-1                & coleoptile              & Seedling stage          & none                    &                         &                         & seedling aerial tissues & NA                      & NA                     \\\\\n",
       "\t Sample\\_6A             & Triticum aestivum       & Development             & BCS cv-1                & leaves/shoots           & seedling                & none                    & BCS cv-1                & coleoptile              & Seedling stage          & none                    &                         &                         & seedling aerial tissues & NA                      & NA                     \\\\\n",
       "\\end{tabular}\n"
      ],
      "text/markdown": [
       "\n",
       "Sample.IDs | scientific_name | study_title | High.level.variety | High.level.tissue | High.level.age | High.level.stress.disease | Variety | Tissue | Age | Stress.disease | Comments | DOI | Intermediate | Intermediate_Stress_merged_control | Intermediate_Stress | \n",
       "|---|---|---|---|---|---|\n",
       "| Sample_10               | Triticum aestivum       | Development             | BCS cv-1                | roots                   | seedling                | none                    | BCS cv-1                | radicle                 | Seedling stage          | none                    |                         |                         | roots                   | NA                      | NA                      | \n",
       "| Sample_18               | Triticum aestivum       | Development             | BCS cv-1                | roots                   | seedling                | none                    | BCS cv-1                | radicle                 | Seedling stage          | none                    |                         |                         | roots                   | NA                      | NA                      | \n",
       "| Sample_3A               | Triticum aestivum       | Development             | BCS cv-1                | roots                   | seedling                | none                    | BCS cv-1                | radicle                 | Seedling stage          | none                    |                         |                         | roots                   | NA                      | NA                      | \n",
       "| Sample_12               | Triticum aestivum       | Development             | BCS cv-1                | leaves/shoots           | seedling                | none                    | BCS cv-1                | coleoptile              | Seedling stage          | none                    |                         |                         | seedling aerial tissues | NA                      | NA                      | \n",
       "| Sample_26               | Triticum aestivum       | Development             | BCS cv-1                | leaves/shoots           | seedling                | none                    | BCS cv-1                | coleoptile              | Seedling stage          | none                    |                         |                         | seedling aerial tissues | NA                      | NA                      | \n",
       "| Sample_6A               | Triticum aestivum       | Development             | BCS cv-1                | leaves/shoots           | seedling                | none                    | BCS cv-1                | coleoptile              | Seedling stage          | none                    |                         |                         | seedling aerial tissues | NA                      | NA                      | \n",
       "\n",
       "\n"
      ],
      "text/plain": [
       "  Sample.IDs scientific_name   study_title High.level.variety High.level.tissue\n",
       "1 Sample_10  Triticum aestivum Development BCS cv-1           roots            \n",
       "2 Sample_18  Triticum aestivum Development BCS cv-1           roots            \n",
       "3 Sample_3A  Triticum aestivum Development BCS cv-1           roots            \n",
       "4 Sample_12  Triticum aestivum Development BCS cv-1           leaves/shoots    \n",
       "5 Sample_26  Triticum aestivum Development BCS cv-1           leaves/shoots    \n",
       "6 Sample_6A  Triticum aestivum Development BCS cv-1           leaves/shoots    \n",
       "  High.level.age High.level.stress.disease Variety  Tissue     Age           \n",
       "1 seedling       none                      BCS cv-1 radicle    Seedling stage\n",
       "2 seedling       none                      BCS cv-1 radicle    Seedling stage\n",
       "3 seedling       none                      BCS cv-1 radicle    Seedling stage\n",
       "4 seedling       none                      BCS cv-1 coleoptile Seedling stage\n",
       "5 seedling       none                      BCS cv-1 coleoptile Seedling stage\n",
       "6 seedling       none                      BCS cv-1 coleoptile Seedling stage\n",
       "  Stress.disease Comments DOI Intermediate           \n",
       "1 none                        roots                  \n",
       "2 none                        roots                  \n",
       "3 none                        roots                  \n",
       "4 none                        seedling aerial tissues\n",
       "5 none                        seedling aerial tissues\n",
       "6 none                        seedling aerial tissues\n",
       "  Intermediate_Stress_merged_control Intermediate_Stress\n",
       "1 NA                                 NA                 \n",
       "2 NA                                 NA                 \n",
       "3 NA                                 NA                 \n",
       "4 NA                                 NA                 \n",
       "5 NA                                 NA                 \n",
       "6 NA                                 NA                 "
      ]
     },
     "metadata": {},
     "output_type": "display_data"
    }
   ],
   "source": [
    "                                                                                                                                                                                                                                                                                                                                                                                                                                                                                                                                                                                                                                                                                                                                                                                                                                                                                                                                                                                                                                                                                                                                                                metadata<-read.csv(\"/Users/ramirezr/Dropbox/JIC/expVIPMetadatas/RefSeq1.0/metadatas/Metadata_june11.txt\", row.names = 1, sep=\"\\t\")\n",
    "metadata<-read.csv(\"./TablesForExploration/metadata.csv\")\n",
    "\n",
    "nrow(metadata)\n",
    "loadValuesFromExperiment<-function(metadata, folder, unit=\"tpm\", values=c(\"Development\")){\n",
    "    metadata$Sample.IDs <- gsub(\"-\",\".\",metadata$Sample.IDs)\n",
    "    \n",
    "    v<-values[1]\n",
    "    v<-gsub(\" \",\"_\",v)\n",
    "    v<-gsub(\",\",\".\",v)\n",
    "    path<-paste0(folder,\"/\",v,\"_\",unit,\".tsv\")\n",
    "    ret<-read.table(path, row.names = 1, header= TRUE)\n",
    "    if(length(values) > 1){\n",
    "      for(i in 2:length(values)){\n",
    "        v<-values[i]\n",
    "        v<-gsub(\" \",\"_\",v)\n",
    "        v<-gsub(\",\",\".\",v)\n",
    "        path<-paste0(folder,\"/\",v,\"_\",unit,\".tsv\")\n",
    "        tmp<-read.table(path, row.names = 1, header= TRUE)\n",
    "        ret<-cbind(ret,tmp)\n",
    "      }  \n",
    "    }\n",
    "    \n",
    "    md<-metadata[metadata$Sample.IDs%in%colnames(ret),]\n",
    "    ret<-ret[,as.character(md$Sample.IDs),]\n",
    "    list(ret,md)\n",
    "}\n",
    "folder<-\"./expressionValuesPerGene\"\n",
    "tpms  <-loadValuesFromExperiment(metadata, folder, unit=\"tpm\",  values=unique(metadata$study_title))\n",
    "\n",
    "\n",
    "metadata_used<-tpms[[2]]\n",
    "tpms<-tpms[[1]]\n",
    "\n",
    "nrow(metadata_used)\n",
    "head(metadata_used)\n",
    "\n",
    "\n"
   ]
  },
  {
   "cell_type": "code",
   "execution_count": 3,
   "metadata": {
    "collapsed": false
   },
   "outputs": [
    {
     "data": {
      "text/html": [
       "<table>\n",
       "<thead><tr><th scope=col>gene</th></tr></thead>\n",
       "<tbody>\n",
       "\t<tr><td>TraesCS1A01G000100  </td></tr>\n",
       "\t<tr><td>TraesCS1A01G000100LC</td></tr>\n",
       "\t<tr><td>TraesCS1A01G000200  </td></tr>\n",
       "\t<tr><td>TraesCS1A01G000200LC</td></tr>\n",
       "\t<tr><td>TraesCS1A01G000300  </td></tr>\n",
       "\t<tr><td>TraesCS1A01G000300LC</td></tr>\n",
       "</tbody>\n",
       "</table>\n"
      ],
      "text/latex": [
       "\\begin{tabular}{r|l}\n",
       " gene\\\\\n",
       "\\hline\n",
       "\t TraesCS1A01G000100  \\\\\n",
       "\t TraesCS1A01G000100LC\\\\\n",
       "\t TraesCS1A01G000200  \\\\\n",
       "\t TraesCS1A01G000200LC\\\\\n",
       "\t TraesCS1A01G000300  \\\\\n",
       "\t TraesCS1A01G000300LC\\\\\n",
       "\\end{tabular}\n"
      ],
      "text/markdown": [
       "\n",
       "gene | \n",
       "|---|---|---|---|---|---|\n",
       "| TraesCS1A01G000100   | \n",
       "| TraesCS1A01G000100LC | \n",
       "| TraesCS1A01G000200   | \n",
       "| TraesCS1A01G000200LC | \n",
       "| TraesCS1A01G000300   | \n",
       "| TraesCS1A01G000300LC | \n",
       "\n",
       "\n"
      ],
      "text/plain": [
       "  gene                \n",
       "1 TraesCS1A01G000100  \n",
       "2 TraesCS1A01G000100LC\n",
       "3 TraesCS1A01G000200  \n",
       "4 TraesCS1A01G000200LC\n",
       "5 TraesCS1A01G000300  \n",
       "6 TraesCS1A01G000300LC"
      ]
     },
     "metadata": {},
     "output_type": "display_data"
    },
    {
     "data": {
      "text/html": [
       "172034"
      ],
      "text/latex": [
       "172034"
      ],
      "text/markdown": [
       "172034"
      ],
      "text/plain": [
       "[1] 172034"
      ]
     },
     "metadata": {},
     "output_type": "display_data"
    }
   ],
   "source": [
    "expressed_genes<-read.csv(\"./TablesForExploration/expressed_genes_tpmsOver0.5AtLeast8Samples.csv\")\n",
    "colnames(expressed_genes) <- c(\"gene\",\"tpm\", \"count\")\n",
    "genes_to_use <- data.frame(gene=expressed_genes$gene)\n",
    "head(genes_to_use)\n",
    "nrow(genes_to_use)"
   ]
  },
  {
   "cell_type": "code",
   "execution_count": 4,
   "metadata": {
    "collapsed": true
   },
   "outputs": [],
   "source": [
    "getSamplesForFactor<- function(metadata, type=\"High.level.tissue\",factor=\"roots\"){\n",
    "    ret<-\"\"\n",
    "    if(type != \"all\"){\n",
    "        ret<-as.character(metadata[metadata[,type] == factor,]$Sample.IDs)\n",
    "    }else{\n",
    "        ret<-unique(metadata$Sample.IDs)\n",
    "    }\n",
    "    ret\n",
    "}\n",
    "getMeansPerFactor<- function(values, metadata,  type=\"High.level.tissue\",factor=\"roots\"){\n",
    "    samples <- getSamplesForFactor(metadata, type, factor)\n",
    "    vals <- values[,samples]\n",
    "    mean<-0\n",
    "    if(length(samples) == 1){\n",
    "        print(\"This factor only has one sample!\")\n",
    "        print(factor)\n",
    "        mean<-vals\n",
    "    }else{\n",
    "        mean<-rowMeans(vals)\n",
    "    }\n",
    "    \n",
    "    \n",
    "    mean<-sort(mean,decreasing=T)\n",
    "    cumulative <- cumsum(mean)\n",
    "    \n",
    "    cumulative<-data.frame(cumulative)\n",
    "    mean<-data.frame(mean)\n",
    "    \n",
    "    mean$gene <- rownames(mean)\n",
    "    cumulative$gene <- rownames(cumulative)\n",
    "    mean$total_samples <- length(samples)\n",
    "    \n",
    "    n <-merge(mean,cumulative, by='gene', all=T)\n",
    "    n <- n[order(n$cumulative,decreasing = F),]\n",
    "    n$seq <- seq(from = 1, to = nrow(n))\n",
    "    n$factor = factor\n",
    "    n\n",
    "}\n",
    "getMeansForAllFactors<-function(values, metadata,  type=\"High.level.tissue\"){\n",
    "    factors<-unique(metadata[,type])\n",
    "    f<-factors[1]\n",
    "    meansDFs <- getMeansPerFactor(tpms,metadata,type=type, factor=f)\n",
    "    for (i in 2:length(factors)){\n",
    "        f<-factors[i]\n",
    "        localDF<-getMeansPerFactor(tpms,metadata,type=type, factor=f)\n",
    "        meansDFs <- rbind(meansDFs,localDF)\n",
    "    }\n",
    "    meansDFs\n",
    "}\n",
    "\n",
    "isExpressedPerFactor <- function(values, metadata,  type=\"High.level.tissue\",factor=\"roots\", minTPM=0.5){\n",
    "    samples <- getSamplesForFactor(metadata, type, factor)\n",
    "    vals <- values[,samples]\n",
    "    means <- rowMeans(vals)\n",
    "    expr <- means > minTPM\n",
    "    m2 <- data.frame( expressed = expr)\n",
    "    m2$factor<-factor\n",
    "    m2$transcript<-rownames(m2)\n",
    "    m2$total_samples <- length(samples)\n",
    "    m2\n",
    "}\n",
    "\n",
    "getExclusiveExpression<-function(values, metadata, minTPM=0.5, type=\"High.level.tissue\"){\n",
    "    means <- getMeansForAllFactors(values, metadata,type=type)\n",
    "    means$expressed<-means$mean > minTPM\n",
    "    exclusiveExpresison<-sqldf(\"SELECT gene, factor, mean, total_samples \n",
    "        FROM means \n",
    "        WHERE expressed \n",
    "        GROUP BY gene HAVING count(factor) = 1 \")\n",
    "   list(means, exclusiveExpresison )\n",
    "}\n",
    "\n"
   ]
  },
  {
   "cell_type": "code",
   "execution_count": 5,
   "metadata": {
    "collapsed": false
   },
   "outputs": [
    {
     "data": {
      "text/html": [
       "<table>\n",
       "<thead><tr><th scope=col>value</th><th scope=col>factor</th><th scope=col>gene</th><th scope=col>samples</th></tr></thead>\n",
       "<tbody>\n",
       "\t<tr><td> 27.93595952        </td><td>all                 </td><td>TraesCS1A01G000100  </td><td>850                 </td></tr>\n",
       "\t<tr><td>965.05451894        </td><td>all                 </td><td>TraesCS1A01G000100LC</td><td>850                 </td></tr>\n",
       "\t<tr><td>196.33845519        </td><td>all                 </td><td>TraesCS1A01G000200  </td><td>850                 </td></tr>\n",
       "\t<tr><td>  0.06421839        </td><td>all                 </td><td>TraesCS1A01G000200LC</td><td>850                 </td></tr>\n",
       "\t<tr><td> 28.23783663        </td><td>all                 </td><td>TraesCS1A01G000300  </td><td>850                 </td></tr>\n",
       "\t<tr><td>  1.06279369        </td><td>all                 </td><td>TraesCS1A01G000300LC</td><td>850                 </td></tr>\n",
       "</tbody>\n",
       "</table>\n"
      ],
      "text/latex": [
       "\\begin{tabular}{r|llll}\n",
       " value & factor & gene & samples\\\\\n",
       "\\hline\n",
       "\t  27.93595952         & all                  & TraesCS1A01G000100   & 850                 \\\\\n",
       "\t 965.05451894         & all                  & TraesCS1A01G000100LC & 850                 \\\\\n",
       "\t 196.33845519         & all                  & TraesCS1A01G000200   & 850                 \\\\\n",
       "\t   0.06421839         & all                  & TraesCS1A01G000200LC & 850                 \\\\\n",
       "\t  28.23783663         & all                  & TraesCS1A01G000300   & 850                 \\\\\n",
       "\t   1.06279369         & all                  & TraesCS1A01G000300LC & 850                 \\\\\n",
       "\\end{tabular}\n"
      ],
      "text/markdown": [
       "\n",
       "value | factor | gene | samples | \n",
       "|---|---|---|---|---|---|\n",
       "|  27.93595952         | all                  | TraesCS1A01G000100   | 850                  | \n",
       "| 965.05451894         | all                  | TraesCS1A01G000100LC | 850                  | \n",
       "| 196.33845519         | all                  | TraesCS1A01G000200   | 850                  | \n",
       "|   0.06421839         | all                  | TraesCS1A01G000200LC | 850                  | \n",
       "|  28.23783663         | all                  | TraesCS1A01G000300   | 850                  | \n",
       "|   1.06279369         | all                  | TraesCS1A01G000300LC | 850                  | \n",
       "\n",
       "\n"
      ],
      "text/plain": [
       "  value        factor gene                 samples\n",
       "1  27.93595952 all    TraesCS1A01G000100   850    \n",
       "2 965.05451894 all    TraesCS1A01G000100LC 850    \n",
       "3 196.33845519 all    TraesCS1A01G000200   850    \n",
       "4   0.06421839 all    TraesCS1A01G000200LC 850    \n",
       "5  28.23783663 all    TraesCS1A01G000300   850    \n",
       "6   1.06279369 all    TraesCS1A01G000300LC 850    "
      ]
     },
     "metadata": {},
     "output_type": "display_data"
    }
   ],
   "source": [
    "get_means_df<-function(metadata, tpms, type=\"High.level.tissue\", min_mean_tpm=0.5){\n",
    "    samples<-getSamplesForFactor(metadata, type=\"all\",factor=\"all\")\n",
    "    values<-data.frame(value=numeric(nrow(tpms)),stringsAsFactors=FALSE)\n",
    "    if(length(samples) > 1){\n",
    "        values$value<-rowMeans(tpms[,samples])\n",
    "    }else{\n",
    "        values$value<-tpms[,samples]\n",
    "    }\n",
    "     \n",
    "    values$factor<-\"all\"\n",
    "    values$gene<-rownames(tpms)\n",
    "    values$samples<-length(samples)\n",
    "    \n",
    "    #print(unique(metadata[,type]))\n",
    "    \n",
    "    for(f in unique(metadata[,type])){\n",
    "        #print(f)\n",
    "        samples<-getSamplesForFactor(metadata, type=type,factor=f)\n",
    "        \n",
    "        tmp<-data.frame(value=numeric(nrow(tpms)),stringsAsFactors=FALSE)\n",
    "        \n",
    "        if(length(samples) > 1){\n",
    "            tmp$value<-rowMeans(tpms[,samples])\n",
    "        }else{\n",
    "            tmp$value<-tpms[,samples]\n",
    "        }\n",
    "        \n",
    "        tmp$factor<-f\n",
    "        tmp$gene<-rownames(tpms)\n",
    "        tmp$samples<-length(samples)\n",
    "        values<-rbind(values,tmp)\n",
    "    }\n",
    "    \n",
    "    casted<-dcast(values, gene~factor, value.var=\"value\")\n",
    "    casted$all<-NULL\n",
    "   \n",
    "    rownames(casted)<-casted$gene\n",
    "    casted$gene<-NULL\n",
    "    casted<-as.matrix(casted)\n",
    " \n",
    "    tmp<-data.frame(value=numeric(nrow(casted)),stringsAsFactors=FALSE)\n",
    "    tmp$value<-rowMeans(casted)\n",
    "    tmp$factor<-\"all_means\"\n",
    "    tmp$gene<-rownames(casted)\n",
    "    tmp$samples<-ncol(casted)\n",
    "    values<-rbind(values,tmp)\n",
    "    \n",
    "    casted<-ifelse(casted < min_mean_tpm, NA, casted)\n",
    "    \n",
    "    tmp<-data.frame(value=numeric(nrow(casted)),stringsAsFactors=FALSE)\n",
    "    tmp$value<-rowMeans(casted, na.rm = TRUE)\n",
    "   \n",
    "    tmp$factor<-\"all_mean_filter\"\n",
    "    tmp$gene<-rownames(casted)\n",
    "    tmp$samples<-rowSums(!is.na(casted))\n",
    "    \n",
    "    values<-rbind(values,tmp)\n",
    "    values\n",
    "}\n",
    "\n",
    "means_df<-get_means_df(metadata_used, tpms)\n",
    "head(means_df)"
   ]
  },
  {
   "cell_type": "code",
   "execution_count": 6,
   "metadata": {
    "collapsed": false
   },
   "outputs": [
    {
     "data": {
      "text/html": [
       "<ol class=list-inline>\n",
       "\t<li>'all'</li>\n",
       "\t<li>'roots'</li>\n",
       "\t<li>'leaves/shoots'</li>\n",
       "\t<li>'spike'</li>\n",
       "\t<li>'grain'</li>\n",
       "\t<li>'all_means'</li>\n",
       "\t<li>'all_mean_filter'</li>\n",
       "</ol>\n"
      ],
      "text/latex": [
       "\\begin{enumerate*}\n",
       "\\item 'all'\n",
       "\\item 'roots'\n",
       "\\item 'leaves/shoots'\n",
       "\\item 'spike'\n",
       "\\item 'grain'\n",
       "\\item 'all\\_means'\n",
       "\\item 'all\\_mean\\_filter'\n",
       "\\end{enumerate*}\n"
      ],
      "text/markdown": [
       "1. 'all'\n",
       "2. 'roots'\n",
       "3. 'leaves/shoots'\n",
       "4. 'spike'\n",
       "5. 'grain'\n",
       "6. 'all_means'\n",
       "7. 'all_mean_filter'\n",
       "\n",
       "\n"
      ],
      "text/plain": [
       "[1] \"all\"             \"roots\"           \"leaves/shoots\"   \"spike\"          \n",
       "[5] \"grain\"           \"all_means\"       \"all_mean_filter\""
      ]
     },
     "metadata": {},
     "output_type": "display_data"
    }
   ],
   "source": [
    "unique(means_df$factor)"
   ]
  },
  {
   "cell_type": "code",
   "execution_count": 7,
   "metadata": {
    "collapsed": false
   },
   "outputs": [
    {
     "data": {
      "text/html": [
       "<table>\n",
       "<thead><tr><th></th><th scope=col>value</th><th scope=col>factor</th><th scope=col>gene</th><th scope=col>samples</th></tr></thead>\n",
       "<tbody>\n",
       "\t<tr><th scope=row>1617499</th><td> 23.102005          </td><td>all_mean_filter     </td><td>TraesCS1A01G000100  </td><td>4                   </td></tr>\n",
       "\t<tr><th scope=row>1617500</th><td>957.867961          </td><td>all_mean_filter     </td><td>TraesCS1A01G000100LC</td><td>4                   </td></tr>\n",
       "\t<tr><th scope=row>1617501</th><td>175.665915          </td><td>all_mean_filter     </td><td>TraesCS1A01G000200  </td><td>4                   </td></tr>\n",
       "\t<tr><th scope=row>1617502</th><td>       NaN          </td><td>all_mean_filter     </td><td>TraesCS1A01G000200LC</td><td>0                   </td></tr>\n",
       "\t<tr><th scope=row>1617503</th><td> 21.807164          </td><td>all_mean_filter     </td><td>TraesCS1A01G000300  </td><td>4                   </td></tr>\n",
       "\t<tr><th scope=row>1617504</th><td>  3.088701          </td><td>all_mean_filter     </td><td>TraesCS1A01G000300LC</td><td>2                   </td></tr>\n",
       "</tbody>\n",
       "</table>\n"
      ],
      "text/latex": [
       "\\begin{tabular}{r|llll}\n",
       "  & value & factor & gene & samples\\\\\n",
       "\\hline\n",
       "\t1617499 &  23.102005           & all\\_mean\\_filter  & TraesCS1A01G000100   & 4                   \\\\\n",
       "\t1617500 & 957.867961           & all\\_mean\\_filter  & TraesCS1A01G000100LC & 4                   \\\\\n",
       "\t1617501 & 175.665915           & all\\_mean\\_filter  & TraesCS1A01G000200   & 4                   \\\\\n",
       "\t1617502 &        NaN           & all\\_mean\\_filter  & TraesCS1A01G000200LC & 0                   \\\\\n",
       "\t1617503 &  21.807164           & all\\_mean\\_filter  & TraesCS1A01G000300   & 4                   \\\\\n",
       "\t1617504 &   3.088701           & all\\_mean\\_filter  & TraesCS1A01G000300LC & 2                   \\\\\n",
       "\\end{tabular}\n"
      ],
      "text/markdown": [
       "\n",
       "| <!--/--> | value | factor | gene | samples | \n",
       "|---|---|---|---|---|---|\n",
       "| 1617499 |  23.102005           | all_mean_filter      | TraesCS1A01G000100   | 4                    | \n",
       "| 1617500 | 957.867961           | all_mean_filter      | TraesCS1A01G000100LC | 4                    | \n",
       "| 1617501 | 175.665915           | all_mean_filter      | TraesCS1A01G000200   | 4                    | \n",
       "| 1617502 |        NaN           | all_mean_filter      | TraesCS1A01G000200LC | 0                    | \n",
       "| 1617503 |  21.807164           | all_mean_filter      | TraesCS1A01G000300   | 4                    | \n",
       "| 1617504 |   3.088701           | all_mean_filter      | TraesCS1A01G000300LC | 2                    | \n",
       "\n",
       "\n"
      ],
      "text/plain": [
       "        value      factor          gene                 samples\n",
       "1617499  23.102005 all_mean_filter TraesCS1A01G000100   4      \n",
       "1617500 957.867961 all_mean_filter TraesCS1A01G000100LC 4      \n",
       "1617501 175.665915 all_mean_filter TraesCS1A01G000200   4      \n",
       "1617502        NaN all_mean_filter TraesCS1A01G000200LC 0      \n",
       "1617503  21.807164 all_mean_filter TraesCS1A01G000300   4      \n",
       "1617504   3.088701 all_mean_filter TraesCS1A01G000300LC 2      "
      ]
     },
     "metadata": {},
     "output_type": "display_data"
    }
   ],
   "source": [
    "head(means_df[means_df$factor=='all_mean_filter',])"
   ]
  },
  {
   "cell_type": "code",
   "execution_count": 8,
   "metadata": {
    "collapsed": false
   },
   "outputs": [
    {
     "data": {
      "text/html": [
       "<table>\n",
       "<thead><tr><th scope=col>Sample.IDs</th><th scope=col>subset</th><th scope=col>type_to_use</th></tr></thead>\n",
       "<tbody>\n",
       "\t<tr><td>Sample_10   </td><td>Development </td><td>Intermediate</td></tr>\n",
       "\t<tr><td>Sample_18   </td><td>Development </td><td>Intermediate</td></tr>\n",
       "\t<tr><td>Sample_3A   </td><td>Development </td><td>Intermediate</td></tr>\n",
       "\t<tr><td>Sample_12   </td><td>Development </td><td>Intermediate</td></tr>\n",
       "\t<tr><td>Sample_26   </td><td>Development </td><td>Intermediate</td></tr>\n",
       "\t<tr><td>Sample_6A   </td><td>Development </td><td>Intermediate</td></tr>\n",
       "</tbody>\n",
       "</table>\n"
      ],
      "text/latex": [
       "\\begin{tabular}{r|lll}\n",
       " Sample.IDs & subset & type\\_to\\_use\\\\\n",
       "\\hline\n",
       "\t Sample\\_10  & Development  & Intermediate\\\\\n",
       "\t Sample\\_18  & Development  & Intermediate\\\\\n",
       "\t Sample\\_3A  & Development  & Intermediate\\\\\n",
       "\t Sample\\_12  & Development  & Intermediate\\\\\n",
       "\t Sample\\_26  & Development  & Intermediate\\\\\n",
       "\t Sample\\_6A  & Development  & Intermediate\\\\\n",
       "\\end{tabular}\n"
      ],
      "text/markdown": [
       "\n",
       "Sample.IDs | subset | type_to_use | \n",
       "|---|---|---|---|---|---|\n",
       "| Sample_10    | Development  | Intermediate | \n",
       "| Sample_18    | Development  | Intermediate | \n",
       "| Sample_3A    | Development  | Intermediate | \n",
       "| Sample_12    | Development  | Intermediate | \n",
       "| Sample_26    | Development  | Intermediate | \n",
       "| Sample_6A    | Development  | Intermediate | \n",
       "\n",
       "\n"
      ],
      "text/plain": [
       "  Sample.IDs subset      type_to_use \n",
       "1 Sample_10  Development Intermediate\n",
       "2 Sample_18  Development Intermediate\n",
       "3 Sample_3A  Development Intermediate\n",
       "4 Sample_12  Development Intermediate\n",
       "5 Sample_26  Development Intermediate\n",
       "6 Sample_6A  Development Intermediate"
      ]
     },
     "metadata": {},
     "output_type": "display_data"
    },
    {
     "data": {
      "text/html": [
       "<table>\n",
       "<thead><tr><th></th><th scope=col>Sample.IDs</th><th scope=col>subset</th><th scope=col>type_to_use</th></tr></thead>\n",
       "<tbody>\n",
       "\t<tr><th scope=row>2718</th><td>ERR789107          </td><td>stress             </td><td>Intermediate_Stress</td></tr>\n",
       "\t<tr><th scope=row>2719</th><td>ERR789106          </td><td>stress             </td><td>Intermediate_Stress</td></tr>\n",
       "\t<tr><th scope=row>2720</th><td>ERR789105          </td><td>stress             </td><td>Intermediate_Stress</td></tr>\n",
       "\t<tr><th scope=row>2721</th><td>ERR789108          </td><td>stress             </td><td>Intermediate_Stress</td></tr>\n",
       "\t<tr><th scope=row>2722</th><td>ERR789110          </td><td>stress             </td><td>Intermediate_Stress</td></tr>\n",
       "\t<tr><th scope=row>2723</th><td>ERR789109          </td><td>stress             </td><td>Intermediate_Stress</td></tr>\n",
       "</tbody>\n",
       "</table>\n"
      ],
      "text/latex": [
       "\\begin{tabular}{r|lll}\n",
       "  & Sample.IDs & subset & type\\_to\\_use\\\\\n",
       "\\hline\n",
       "\t2718 & ERR789107             & stress                & Intermediate\\_Stress\\\\\n",
       "\t2719 & ERR789106             & stress                & Intermediate\\_Stress\\\\\n",
       "\t2720 & ERR789105             & stress                & Intermediate\\_Stress\\\\\n",
       "\t2721 & ERR789108             & stress                & Intermediate\\_Stress\\\\\n",
       "\t2722 & ERR789110             & stress                & Intermediate\\_Stress\\\\\n",
       "\t2723 & ERR789109             & stress                & Intermediate\\_Stress\\\\\n",
       "\\end{tabular}\n"
      ],
      "text/markdown": [
       "\n",
       "| <!--/--> | Sample.IDs | subset | type_to_use | \n",
       "|---|---|---|---|---|---|\n",
       "| 2718 | ERR789107           | stress              | Intermediate_Stress | \n",
       "| 2719 | ERR789106           | stress              | Intermediate_Stress | \n",
       "| 2720 | ERR789105           | stress              | Intermediate_Stress | \n",
       "| 2721 | ERR789108           | stress              | Intermediate_Stress | \n",
       "| 2722 | ERR789110           | stress              | Intermediate_Stress | \n",
       "| 2723 | ERR789109           | stress              | Intermediate_Stress | \n",
       "\n",
       "\n"
      ],
      "text/plain": [
       "     Sample.IDs subset type_to_use        \n",
       "2718 ERR789107  stress Intermediate_Stress\n",
       "2719 ERR789106  stress Intermediate_Stress\n",
       "2720 ERR789105  stress Intermediate_Stress\n",
       "2721 ERR789108  stress Intermediate_Stress\n",
       "2722 ERR789110  stress Intermediate_Stress\n",
       "2723 ERR789109  stress Intermediate_Stress"
      ]
     },
     "metadata": {},
     "output_type": "display_data"
    }
   ],
   "source": [
    "group_to_execute<-read.csv(\"./TablesForExploration/samples_to_use.csv\")\n",
    "head(group_to_execute)\n",
    "tail(group_to_execute)"
   ]
  },
  {
   "cell_type": "markdown",
   "metadata": {},
   "source": [
    "The loop callos the function ```get_means_df``` accross different subsets of data and according to the Intermediate grouping factors. There are three special global averages:\n",
    "\n",
    " 1. ```all``` Average across all the samples\n",
    " 2. ```all_mean``` Average of averages per factor\n",
    " 3. ```all_mean_filter``` Average of average per factor, but only when the average of each grouping is  ```> 0.5``` (as per ```min_mean_tpm```)"
   ]
  },
  {
   "cell_type": "code",
   "execution_count": 9,
   "metadata": {
    "collapsed": false
   },
   "outputs": [
    {
     "name": "stdout",
     "output_type": "stream",
     "text": [
      "[1] \"Development\"\n",
      "[1] \"Intermediate\"\n",
      "[1] 209\n",
      "[1] \"850_samples\"\n",
      "[1] \"Intermediate\"\n",
      "[1] 850\n",
      "[1] \"CS_no_stress\"\n",
      "[1] \"Intermediate\"\n",
      "[1] 123\n",
      "[1] \"CS_NB_inc_stress\"\n",
      "[1] \"Intermediate\"\n",
      "[1] 144\n",
      "[1] \"abiotic\"\n",
      "[1] \"Intermediate_Stress\"\n",
      "[1] 50\n",
      "[1] \"disease\"\n",
      "[1] \"Intermediate_Stress\"\n",
      "[1] 163\n",
      "[1] \"grain\"\n",
      "[1] \"Intermediate\"\n",
      "[1] 119\n",
      "[1] \"leaf\"\n",
      "[1] \"Intermediate\"\n",
      "[1] 245\n",
      "[1] \"root\"\n",
      "[1] \"Intermediate\"\n",
      "[1] 45\n",
      "[1] \"spike\"\n",
      "[1] \"Intermediate\"\n",
      "[1] 128\n",
      "[1] \"abiotic_merged_control\"\n",
      "[1] \"Intermediate_Stress_merged_control\"\n",
      "[1] 50\n",
      "[1] \"disease_merged_control\"\n",
      "[1] \"Intermediate_Stress_merged_control\"\n",
      "[1] 163\n",
      "[1] \"stress_control\"\n",
      "[1] \"Intermediate_Stress\"\n",
      "[1] 77\n",
      "[1] \"abiotic_stress_control\"\n",
      "[1] \"Intermediate_Stress\"\n",
      "[1] 13\n",
      "[1] \"disease_stress_control\"\n",
      "[1] \"Intermediate_Stress\"\n",
      "[1] 64\n",
      "[1] \"abiotic_stress\"\n",
      "[1] \"Intermediate_Stress\"\n",
      "[1] 34\n",
      "[1] \"disease_stress\"\n",
      "[1] \"Intermediate_Stress\"\n",
      "[1] 106\n",
      "[1] \"stress\"\n",
      "[1] \"Intermediate_Stress\"\n",
      "[1] 140\n"
     ]
    }
   ],
   "source": [
    "means_df <- NULL\n",
    "for(subset in unique(group_to_execute$subset)){\n",
    "    samples_in_group<-group_to_execute[group_to_execute$subset == subset,]\n",
    "    column <- unique(samples_in_group$type_to_use)\n",
    "    if(length(column) != 1){\n",
    "        print(paste0(subset, \" has more than one possible column\"))\n",
    "    }\n",
    "    print(subset)\n",
    "    print(as.character(column))\n",
    "    local_metadata <- metadata[metadata$Sample.IDs %in% samples_in_group$Sample.IDs,]\n",
    "    print(nrow(local_metadata))\n",
    "    tmp_df <- get_means_df(local_metadata, tpms, type=as.character(column), min_mean_tpm=0.5)\n",
    "    tmp_df$subset<-subset\n",
    "    tmp_df$min_mean_tpm<-as.factor(\"0.5\")\n",
    "    \n",
    "    if(is.null(means_df)){\n",
    "        means_df <- tmp_df\n",
    "    }else{\n",
    "        means_df<-rbind(tmp_df, means_df)\n",
    "    }\n",
    "}\n"
   ]
  },
  {
   "cell_type": "code",
   "execution_count": 10,
   "metadata": {
    "collapsed": false
   },
   "outputs": [
    {
     "data": {
      "text/html": [
       "69552414"
      ],
      "text/latex": [
       "69552414"
      ],
      "text/markdown": [
       "69552414"
      ],
      "text/plain": [
       "[1] 69552414"
      ]
     },
     "metadata": {},
     "output_type": "display_data"
    },
    {
     "data": {
      "text/html": [
       "<table>\n",
       "<thead><tr><th scope=col>value</th><th scope=col>factor</th><th scope=col>gene</th><th scope=col>samples</th><th scope=col>subset</th><th scope=col>min_mean_tpm</th></tr></thead>\n",
       "<tbody>\n",
       "\t<tr><td>  40.6321681        </td><td>all                 </td><td>TraesCS1A01G000100  </td><td>140                 </td><td>stress              </td><td>0.5                 </td></tr>\n",
       "\t<tr><td>1247.8227773        </td><td>all                 </td><td>TraesCS1A01G000100LC</td><td>140                 </td><td>stress              </td><td>0.5                 </td></tr>\n",
       "\t<tr><td> 357.8591670        </td><td>all                 </td><td>TraesCS1A01G000200  </td><td>140                 </td><td>stress              </td><td>0.5                 </td></tr>\n",
       "\t<tr><td>   0.1167718        </td><td>all                 </td><td>TraesCS1A01G000200LC</td><td>140                 </td><td>stress              </td><td>0.5                 </td></tr>\n",
       "\t<tr><td>  17.7845964        </td><td>all                 </td><td>TraesCS1A01G000300  </td><td>140                 </td><td>stress              </td><td>0.5                 </td></tr>\n",
       "\t<tr><td>   0.3985324        </td><td>all                 </td><td>TraesCS1A01G000300LC</td><td>140                 </td><td>stress              </td><td>0.5                 </td></tr>\n",
       "</tbody>\n",
       "</table>\n"
      ],
      "text/latex": [
       "\\begin{tabular}{r|llllll}\n",
       " value & factor & gene & samples & subset & min\\_mean\\_tpm\\\\\n",
       "\\hline\n",
       "\t   40.6321681         & all                  & TraesCS1A01G000100   & 140                  & stress               & 0.5                 \\\\\n",
       "\t 1247.8227773         & all                  & TraesCS1A01G000100LC & 140                  & stress               & 0.5                 \\\\\n",
       "\t  357.8591670         & all                  & TraesCS1A01G000200   & 140                  & stress               & 0.5                 \\\\\n",
       "\t    0.1167718         & all                  & TraesCS1A01G000200LC & 140                  & stress               & 0.5                 \\\\\n",
       "\t   17.7845964         & all                  & TraesCS1A01G000300   & 140                  & stress               & 0.5                 \\\\\n",
       "\t    0.3985324         & all                  & TraesCS1A01G000300LC & 140                  & stress               & 0.5                 \\\\\n",
       "\\end{tabular}\n"
      ],
      "text/markdown": [
       "\n",
       "value | factor | gene | samples | subset | min_mean_tpm | \n",
       "|---|---|---|---|---|---|\n",
       "|   40.6321681         | all                  | TraesCS1A01G000100   | 140                  | stress               | 0.5                  | \n",
       "| 1247.8227773         | all                  | TraesCS1A01G000100LC | 140                  | stress               | 0.5                  | \n",
       "|  357.8591670         | all                  | TraesCS1A01G000200   | 140                  | stress               | 0.5                  | \n",
       "|    0.1167718         | all                  | TraesCS1A01G000200LC | 140                  | stress               | 0.5                  | \n",
       "|   17.7845964         | all                  | TraesCS1A01G000300   | 140                  | stress               | 0.5                  | \n",
       "|    0.3985324         | all                  | TraesCS1A01G000300LC | 140                  | stress               | 0.5                  | \n",
       "\n",
       "\n"
      ],
      "text/plain": [
       "  value        factor gene                 samples subset min_mean_tpm\n",
       "1   40.6321681 all    TraesCS1A01G000100   140     stress 0.5         \n",
       "2 1247.8227773 all    TraesCS1A01G000100LC 140     stress 0.5         \n",
       "3  357.8591670 all    TraesCS1A01G000200   140     stress 0.5         \n",
       "4    0.1167718 all    TraesCS1A01G000200LC 140     stress 0.5         \n",
       "5   17.7845964 all    TraesCS1A01G000300   140     stress 0.5         \n",
       "6    0.3985324 all    TraesCS1A01G000300LC 140     stress 0.5         "
      ]
     },
     "metadata": {},
     "output_type": "display_data"
    }
   ],
   "source": [
    "nrow(means_df)\n",
    "head(means_df)"
   ]
  },
  {
   "cell_type": "code",
   "execution_count": 12,
   "metadata": {
    "collapsed": true
   },
   "outputs": [
    {
     "data": {
      "text/html": [
       "<ol class=list-inline>\n",
       "\t<li>'all'</li>\n",
       "\t<li>'PAMP chitin'</li>\n",
       "\t<li>'PAMP flg22'</li>\n",
       "\t<li>'Phosphorous starvation 10 d shoots'</li>\n",
       "\t<li>'powdery mildew'</li>\n",
       "\t<li>'stripe rust 2'</li>\n",
       "\t<li>'drought&amp;heat combined stress'</li>\n",
       "\t<li>'heat stress'</li>\n",
       "\t<li>'drought stress'</li>\n",
       "\t<li>'Fusarium pseudograminearum study2'</li>\n",
       "\t<li>'PEG 6000'</li>\n",
       "\t<li>'Zymoseptoria tritici'</li>\n",
       "\t<li>'Fusarium pseudograminearum'</li>\n",
       "\t<li>'cold 2 weeks (4C)'</li>\n",
       "\t<li>'stripe rust'</li>\n",
       "\t<li>'all_means'</li>\n",
       "\t<li>'all_mean_filter'</li>\n",
       "\t<li>'PAMP control'</li>\n",
       "\t<li>'mildew stripe rust 2 control'</li>\n",
       "\t<li>'Phosphorous starvation shoots control'</li>\n",
       "\t<li>'Fusarium pseudograminearum control study2'</li>\n",
       "\t<li>'Zymoseptoria tritici control'</li>\n",
       "\t<li>'Fusarium pseudograminearum control'</li>\n",
       "\t<li>'stripe rust control'</li>\n",
       "\t<li>'heat drought control'</li>\n",
       "\t<li>'PEG 6000 control'</li>\n",
       "\t<li>'cold 2 weeks control'</li>\n",
       "\t<li>'No stress control'</li>\n",
       "\t<li>'spike'</li>\n",
       "\t<li>'spikelets'</li>\n",
       "\t<li>'awns'</li>\n",
       "\t<li>'glumes'</li>\n",
       "\t<li>'anther'</li>\n",
       "\t<li>'stigma &amp; ovary'</li>\n",
       "\t<li>'rachis'</li>\n",
       "\t<li>'microspores'</li>\n",
       "\t<li>'roots'</li>\n",
       "\t<li>'root apical meristem'</li>\n",
       "\t<li>'seedling aerial tissues'</li>\n",
       "\t<li>'shoot apical meristem'</li>\n",
       "\t<li>'leaf blades excl flag'</li>\n",
       "\t<li>'leaf sheaths excl flag'</li>\n",
       "\t<li>'shoot axis'</li>\n",
       "\t<li>'flag leaf blade'</li>\n",
       "\t<li>'leaf ligule'</li>\n",
       "\t<li>'flag leaf sheath'</li>\n",
       "\t<li>'internode'</li>\n",
       "\t<li>'peduncle'</li>\n",
       "\t<li>'leaf excl flag leaf'</li>\n",
       "\t<li>'flag leaf'</li>\n",
       "\t<li>'vegetative aerial tissues'</li>\n",
       "\t<li>'grain milk and soft dough'</li>\n",
       "\t<li>'grain hard dough and ripening'</li>\n",
       "\t<li>'endosperm'</li>\n",
       "\t<li>'embryo'</li>\n",
       "\t<li>'aleurone'</li>\n",
       "\t<li>'seed coat'</li>\n",
       "\t<li>'endosperm + seed coat'</li>\n",
       "\t<li>'transfer cells'</li>\n",
       "\t<li>'aleurone layer and starchy endosperm'</li>\n",
       "</ol>\n"
      ],
      "text/latex": [
       "\\begin{enumerate*}\n",
       "\\item 'all'\n",
       "\\item 'PAMP chitin'\n",
       "\\item 'PAMP flg22'\n",
       "\\item 'Phosphorous starvation 10 d shoots'\n",
       "\\item 'powdery mildew'\n",
       "\\item 'stripe rust 2'\n",
       "\\item 'drought\\&heat combined stress'\n",
       "\\item 'heat stress'\n",
       "\\item 'drought stress'\n",
       "\\item 'Fusarium pseudograminearum study2'\n",
       "\\item 'PEG 6000'\n",
       "\\item 'Zymoseptoria tritici'\n",
       "\\item 'Fusarium pseudograminearum'\n",
       "\\item 'cold 2 weeks (4C)'\n",
       "\\item 'stripe rust'\n",
       "\\item 'all\\_means'\n",
       "\\item 'all\\_mean\\_filter'\n",
       "\\item 'PAMP control'\n",
       "\\item 'mildew stripe rust 2 control'\n",
       "\\item 'Phosphorous starvation shoots control'\n",
       "\\item 'Fusarium pseudograminearum control study2'\n",
       "\\item 'Zymoseptoria tritici control'\n",
       "\\item 'Fusarium pseudograminearum control'\n",
       "\\item 'stripe rust control'\n",
       "\\item 'heat drought control'\n",
       "\\item 'PEG 6000 control'\n",
       "\\item 'cold 2 weeks control'\n",
       "\\item 'No stress control'\n",
       "\\item 'spike'\n",
       "\\item 'spikelets'\n",
       "\\item 'awns'\n",
       "\\item 'glumes'\n",
       "\\item 'anther'\n",
       "\\item 'stigma \\& ovary'\n",
       "\\item 'rachis'\n",
       "\\item 'microspores'\n",
       "\\item 'roots'\n",
       "\\item 'root apical meristem'\n",
       "\\item 'seedling aerial tissues'\n",
       "\\item 'shoot apical meristem'\n",
       "\\item 'leaf blades excl flag'\n",
       "\\item 'leaf sheaths excl flag'\n",
       "\\item 'shoot axis'\n",
       "\\item 'flag leaf blade'\n",
       "\\item 'leaf ligule'\n",
       "\\item 'flag leaf sheath'\n",
       "\\item 'internode'\n",
       "\\item 'peduncle'\n",
       "\\item 'leaf excl flag leaf'\n",
       "\\item 'flag leaf'\n",
       "\\item 'vegetative aerial tissues'\n",
       "\\item 'grain milk and soft dough'\n",
       "\\item 'grain hard dough and ripening'\n",
       "\\item 'endosperm'\n",
       "\\item 'embryo'\n",
       "\\item 'aleurone'\n",
       "\\item 'seed coat'\n",
       "\\item 'endosperm + seed coat'\n",
       "\\item 'transfer cells'\n",
       "\\item 'aleurone layer and starchy endosperm'\n",
       "\\end{enumerate*}\n"
      ],
      "text/markdown": [
       "1. 'all'\n",
       "2. 'PAMP chitin'\n",
       "3. 'PAMP flg22'\n",
       "4. 'Phosphorous starvation 10 d shoots'\n",
       "5. 'powdery mildew'\n",
       "6. 'stripe rust 2'\n",
       "7. 'drought&amp;heat combined stress'\n",
       "8. 'heat stress'\n",
       "9. 'drought stress'\n",
       "10. 'Fusarium pseudograminearum study2'\n",
       "11. 'PEG 6000'\n",
       "12. 'Zymoseptoria tritici'\n",
       "13. 'Fusarium pseudograminearum'\n",
       "14. 'cold 2 weeks (4C)'\n",
       "15. 'stripe rust'\n",
       "16. 'all_means'\n",
       "17. 'all_mean_filter'\n",
       "18. 'PAMP control'\n",
       "19. 'mildew stripe rust 2 control'\n",
       "20. 'Phosphorous starvation shoots control'\n",
       "21. 'Fusarium pseudograminearum control study2'\n",
       "22. 'Zymoseptoria tritici control'\n",
       "23. 'Fusarium pseudograminearum control'\n",
       "24. 'stripe rust control'\n",
       "25. 'heat drought control'\n",
       "26. 'PEG 6000 control'\n",
       "27. 'cold 2 weeks control'\n",
       "28. 'No stress control'\n",
       "29. 'spike'\n",
       "30. 'spikelets'\n",
       "31. 'awns'\n",
       "32. 'glumes'\n",
       "33. 'anther'\n",
       "34. 'stigma &amp; ovary'\n",
       "35. 'rachis'\n",
       "36. 'microspores'\n",
       "37. 'roots'\n",
       "38. 'root apical meristem'\n",
       "39. 'seedling aerial tissues'\n",
       "40. 'shoot apical meristem'\n",
       "41. 'leaf blades excl flag'\n",
       "42. 'leaf sheaths excl flag'\n",
       "43. 'shoot axis'\n",
       "44. 'flag leaf blade'\n",
       "45. 'leaf ligule'\n",
       "46. 'flag leaf sheath'\n",
       "47. 'internode'\n",
       "48. 'peduncle'\n",
       "49. 'leaf excl flag leaf'\n",
       "50. 'flag leaf'\n",
       "51. 'vegetative aerial tissues'\n",
       "52. 'grain milk and soft dough'\n",
       "53. 'grain hard dough and ripening'\n",
       "54. 'endosperm'\n",
       "55. 'embryo'\n",
       "56. 'aleurone'\n",
       "57. 'seed coat'\n",
       "58. 'endosperm + seed coat'\n",
       "59. 'transfer cells'\n",
       "60. 'aleurone layer and starchy endosperm'\n",
       "\n",
       "\n"
      ],
      "text/plain": [
       " [1] \"all\"                                      \n",
       " [2] \"PAMP chitin\"                              \n",
       " [3] \"PAMP flg22\"                               \n",
       " [4] \"Phosphorous starvation 10 d shoots\"       \n",
       " [5] \"powdery mildew\"                           \n",
       " [6] \"stripe rust 2\"                            \n",
       " [7] \"drought&heat combined stress\"             \n",
       " [8] \"heat stress\"                              \n",
       " [9] \"drought stress\"                           \n",
       "[10] \"Fusarium pseudograminearum study2\"        \n",
       "[11] \"PEG 6000\"                                 \n",
       "[12] \"Zymoseptoria tritici\"                     \n",
       "[13] \"Fusarium pseudograminearum\"               \n",
       "[14] \"cold 2 weeks (4C)\"                        \n",
       "[15] \"stripe rust\"                              \n",
       "[16] \"all_means\"                                \n",
       "[17] \"all_mean_filter\"                          \n",
       "[18] \"PAMP control\"                             \n",
       "[19] \"mildew stripe rust 2 control\"             \n",
       "[20] \"Phosphorous starvation shoots control\"    \n",
       "[21] \"Fusarium pseudograminearum control study2\"\n",
       "[22] \"Zymoseptoria tritici control\"             \n",
       "[23] \"Fusarium pseudograminearum control\"       \n",
       "[24] \"stripe rust control\"                      \n",
       "[25] \"heat drought control\"                     \n",
       "[26] \"PEG 6000 control\"                         \n",
       "[27] \"cold 2 weeks control\"                     \n",
       "[28] \"No stress control\"                        \n",
       "[29] \"spike\"                                    \n",
       "[30] \"spikelets\"                                \n",
       "[31] \"awns\"                                     \n",
       "[32] \"glumes\"                                   \n",
       "[33] \"anther\"                                   \n",
       "[34] \"stigma & ovary\"                           \n",
       "[35] \"rachis\"                                   \n",
       "[36] \"microspores\"                              \n",
       "[37] \"roots\"                                    \n",
       "[38] \"root apical meristem\"                     \n",
       "[39] \"seedling aerial tissues\"                  \n",
       "[40] \"shoot apical meristem\"                    \n",
       "[41] \"leaf blades excl flag\"                    \n",
       "[42] \"leaf sheaths excl flag\"                   \n",
       "[43] \"shoot axis\"                               \n",
       "[44] \"flag leaf blade\"                          \n",
       "[45] \"leaf ligule\"                              \n",
       "[46] \"flag leaf sheath\"                         \n",
       "[47] \"internode\"                                \n",
       "[48] \"peduncle\"                                 \n",
       "[49] \"leaf excl flag leaf\"                      \n",
       "[50] \"flag leaf\"                                \n",
       "[51] \"vegetative aerial tissues\"                \n",
       "[52] \"grain milk and soft dough\"                \n",
       "[53] \"grain hard dough and ripening\"            \n",
       "[54] \"endosperm\"                                \n",
       "[55] \"embryo\"                                   \n",
       "[56] \"aleurone\"                                 \n",
       "[57] \"seed coat\"                                \n",
       "[58] \"endosperm + seed coat\"                    \n",
       "[59] \"transfer cells\"                           \n",
       "[60] \"aleurone layer and starchy endosperm\"     "
      ]
     },
     "metadata": {},
     "output_type": "display_data"
    }
   ],
   "source": [
    "unique(means_df$factor)"
   ]
  },
  {
   "cell_type": "code",
   "execution_count": 11,
   "metadata": {
    "collapsed": true
   },
   "outputs": [],
   "source": [
    "saveRDS(means_df, file=\"./TablesForExploration/MeanTpms.rds\")"
   ]
  },
  {
   "cell_type": "code",
   "execution_count": null,
   "metadata": {
    "collapsed": true
   },
   "outputs": [],
   "source": []
  }
 ],
 "metadata": {
  "kernelspec": {
   "display_name": "R",
   "language": "R",
   "name": "ir"
  },
  "language_info": {
   "codemirror_mode": "r",
   "file_extension": ".r",
   "mimetype": "text/x-r-source",
   "name": "R",
   "pygments_lexer": "r",
   "version": "3.3.2"
  }
 },
 "nbformat": 4,
 "nbformat_minor": 2
}
