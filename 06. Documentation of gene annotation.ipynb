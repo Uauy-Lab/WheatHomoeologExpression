{
 "cells": [
  {
   "cell_type": "markdown",
   "metadata": {},
   "source": [
    "This notebook contains the details of the tables used for the ontologies in the paper. The ontolgies take as a base the ontologies in __[URGI](https://urgi.versailles.inra.fr/download/iwgsc/IWGSC_RefSeq_Annotations/v1.0/)__. \n",
    "\n",
    "The gene models that were used for the study correspond to the genes in the following files:\n",
    "\n",
    " * __[iwgsc_refseqv1.0_HighConf_UTR_2017May05.gff3.zip](https://urgi.versailles.inra.fr/download/iwgsc/IWGSC_RefSeq_Annotations/v1.0/iwgsc_refseqv1.0_HighConf_UTR_2017May05.gff3.zip)__\n",
    " * __[iwgsc_refseqv1.0_LowConf_UTR_2017May05.gff3.zip](https://urgi.versailles.inra.fr/download/iwgsc/IWGSC_RefSeq_Annotations/v1.0/iwgsc_refseqv1.0_LowConf_UTR_2017May05.gff3.zip)__\n",
    "\n",
    "After conncatenating and using __[gffread](http://ccb.jhu.edu/software/stringtie/gff.shtml#gffread)__ to convert to a fasta file we obtained the transcriptome reference __[IWGSCv1.0_UTR_ALL.cdnas.fasta.gz](https://opendata.earlham.ac.uk/wheat/under_license/toronto/Ramirez-Gonzalez_etal_2018-06025-Transcriptome-Landscape/expvip/RefSeq_1.0/IWGSCv1.0_UTR_ALL.cdnas.fasta.gz)__\n",
    "\n",
    "\n",
    "The functional annotation is based on the followign files in __[URGI](https://urgi.versailles.inra.fr/download/iwgsc/IWGSC_RefSeq_Annotations/v1.0/)__: \n",
    "\n",
    " * ```iwgsc_refseqv1.0_FunctionalAnnotation_v1__LCgenes_v1.0.TAB``` \n",
    " * ```iwgsc_refseqv1.0_FunctionalAnnotation_v1__HCgenes_v1.0.TAB```\n",
    "\n",
    "\n",
    "On the top of those, we added some measing annotations with blast2go as stated inthe methods: \n",
    "\n",
    "> The pipeline also contained a step annotating the domain architectures of the gene family members. The inferred domain architectures were utilized to identify gene families belonging to super- families of transcription factors, transcriptional and post-transcriptional regulators using a HMM- domain rule set established previously (79). The orthologous relationships were utilized to establish Gene Ontology (GO), Plant Ontology (PO) and Plant Trait Ontology (TO) term annotations for bread wheat by homology annotation transfer (10). This pipeline explicitly discarded ontologies related to biotic or abiotic stress. Therefore, to complement the functional annotation, the gene models where aligned to the Arabidopsis proteome (tair10) with blastx. Matches were called with a cut-off e-value `e-10` and GO terms were transferred from the GO assignment of the matching tair10 Arabidopsis annotation. We identified the Arabidopsis proteins with GO terms relating to biotic and abiotic stress, by using the following Plant GO slim (http://geneontology.org/page/go-slim-and-subset-guide) terms: GO:0006950: response to stress; GO:0009607: response to biotic stimulus and; GO:0009628: response to abiotic stimulus. Wheat genes homologous to Arabidopsis proteins with these GO slim terms were extracted from the blastx output and these functional annotations were added to the original IWGSC annotation (10). The GO release was the monthly freeze of 01/01/2017.\n",
    "\n",
    "\n",
    "\n",
    "All the actual tables used on our analysis is here: https://opendata.earlham.ac.uk/wheat/under_license/toronto/Ramirez-Gonzalez_etal_2018-06025-Transcriptome-Landscape/data/TablesForExploration/\n"
   ]
  },
  {
   "cell_type": "code",
   "execution_count": 1,
   "metadata": {
    "collapsed": false
   },
   "outputs": [
    {
     "name": "stderr",
     "output_type": "stream",
     "text": [
      "Loading required package: gsubfn\n",
      "Loading required package: proto\n",
      "Loading required package: RSQLite\n",
      "Loading required package: spam\n",
      "Loading required package: grid\n",
      "Spam version 1.4-0 (2016-08-29) is loaded.\n",
      "Type 'help( Spam)' or 'demo( spam)' for a short introduction \n",
      "and overview of this package.\n",
      "Help for individual functions is also obtained by adding the\n",
      "suffix '.spam' to the function name, e.g. 'help( chol.spam)'.\n",
      "\n",
      "Attaching package: ‘spam’\n",
      "\n",
      "The following objects are masked from ‘package:base’:\n",
      "\n",
      "    backsolve, forwardsolve\n",
      "\n",
      "Loading required package: maps\n",
      "--\n",
      "Consider donating at: http://ggtern.com\n",
      "Even small amounts (say $10-50) are very much appreciated!\n",
      "Remember to cite, run citation(package = 'ggtern') for further info.\n",
      "--\n",
      "\n",
      "Attaching package: ‘ggtern’\n",
      "\n",
      "The following objects are masked from ‘package:gridExtra’:\n",
      "\n",
      "    arrangeGrob, grid.arrange\n",
      "\n",
      "The following objects are masked from ‘package:ggplot2’:\n",
      "\n",
      "    %+%, aes, annotate, calc_element, ggplot, ggplot_build,\n",
      "    ggplot_gtable, ggplotGrob, ggsave, layer_data, theme, theme_bw,\n",
      "    theme_classic, theme_dark, theme_gray, theme_light, theme_linedraw,\n",
      "    theme_minimal, theme_void\n",
      "\n",
      "Loading required package: magic\n",
      "Loading required package: abind\n",
      "Loading required package: BiasedUrn\n",
      "Loading required package: geneLenDataBase\n",
      "\n",
      "\n",
      "Attaching package: ‘plyr’\n",
      "\n",
      "The following object is masked from ‘package:maps’:\n",
      "\n",
      "    ozone\n",
      "\n"
     ]
    }
   ],
   "source": [
    "options(gsubfn.engine = \"R\")\n",
    "library(ggplot2)\n",
    "library(reshape2)\n",
    "library(sqldf)\n",
    "library(fields)\n",
    "library(gridExtra)\n",
    "library(ggtern)\n",
    "library(clue)\n",
    "library(geometry)\n",
    "library(gtable)\n",
    "library(goseq)\n",
    "library(plyr)\n",
    "\n",
    "options(keep.source = TRUE, error = \n",
    "  quote({ \n",
    "    cat(\"Environment:\\n\", file=stderr()); \n",
    "\n",
    "    # TODO: setup option for dumping to a file (?)\n",
    "    # Set `to.file` argument to write this to a file for post-mortem debugging    \n",
    "    dump.frames();  # writes to last.dump\n",
    "\n",
    "    #\n",
    "    # Debugging in R\n",
    "    #   http://www.stats.uwo.ca/faculty/murdoch/software/debuggingR/index.shtml\n",
    "    #\n",
    "    # Post-mortem debugging\n",
    "    #   http://www.stats.uwo.ca/faculty/murdoch/software/debuggingR/pmd.shtml\n",
    "    #\n",
    "    # Relation functions:\n",
    "    #   dump.frames\n",
    "    #   recover\n",
    "    # >>limitedLabels  (formatting of the dump with source/line numbers)\n",
    "    #   sys.frame (and associated)\n",
    "    #   traceback\n",
    "    #   geterrmessage\n",
    "    #\n",
    "    # Output based on the debugger function definition.\n",
    "\n",
    "    n <- length(last.dump)\n",
    "    calls <- names(last.dump)\n",
    "    cat(paste(\"  \", 1L:n, \": \", calls, sep = \"\"), sep = \"\\n\", file=stderr())\n",
    "    cat(\"\\n\", file=stderr())\n",
    "\n",
    "    if (!interactive()) {\n",
    "      q()\n",
    "    }\n",
    "  }))\n",
    "\n",
    "is.error <- function(x) inherits(x, \"try-error\")\n",
    "\n",
    "loadGeneInformation<-function(dir=\"../TablesForExploration\"){\n",
    "    path<-paste0(dir,\"/CanonicalTranscript.rds\")\n",
    "    canonicalTranscripts<-readRDS(path)\n",
    "    canonicalTranscripts$intron_length<- canonicalTranscripts$mrna_length -  canonicalTranscripts$exon_length\n",
    "    canonicalTranscripts$chr_group <- substr(canonicalTranscripts$Chr,4,4)\n",
    "    canonicalTranscripts$genome    <- substr(canonicalTranscripts$Chr,5,5)\n",
    "    \n",
    "    path<-paste0(dir, \"/MeanTpms.rds\")\n",
    "    meanTpms <- readRDS(path)\n",
    "    expressed_genes<-unique(meanTpms$gene)\n",
    "    canonicalTranscripts<-canonicalTranscripts[canonicalTranscripts$Gene %in% expressed_genes, ]\n",
    "    canonicalTranscripts$scaled_5per_position <-   5 * ceiling(canonicalTranscripts$scaled_1per_position / 5)\n",
    "    canonicalTranscripts$scaled_5per_position <- ifelse(canonicalTranscripts$scaled_5per_position == 0, \n",
    "        5, \n",
    "        canonicalTranscripts$scaled_5per_position)\n",
    "\n",
    "    path<-paste0(dir, \"/region_partition.csv\")\n",
    "    partition<-read.csv(path, row.names=1)\n",
    "    \n",
    "    partition_percentages<-round(100*partition/partition$Length)\n",
    "    partition_percentages$Chr <- rownames(partition_percentages)\n",
    "    partition$Chr <- rownames(partition)\n",
    "    ct<-canonicalTranscripts\n",
    "    ct_with_partition<-sqldf('SELECT ct.*, CASE \n",
    "WHEN scaled_1per_position < R1_R2a THEN \"R1\"\n",
    "WHEN scaled_1per_position < R2a_C  THEN \"R2A\"\n",
    "WHEN scaled_1per_position < C_R2b  THEN \"C\"\n",
    "WHEN scaled_1per_position < R2b_R3  THEN \"R2B\"\n",
    "ELSE \"R3\" END as partition\n",
    "    \n",
    "FROM ct LEFT JOIN partition_percentages ON ct.chr = partition_percentages.chr   ')\n",
    "\n",
    "    x<-  as.factor(ct_with_partition$partition)\n",
    "    x <- factor(x,levels(x)[c(2,3,1,4,5)])\n",
    "    ct_with_partition$partition <- x \n",
    "\n",
    "    \n",
    "    canonicalTranscripts<-ct_with_partition\n",
    "\n",
    "    path<-paste0(dir,\"/TriadMovement.rds\")\n",
    "    triadMovement<-readRDS(path)\n",
    "    \n",
    "    path<-paste0(dir,\"/Triads.rds\")\n",
    "    triads<-readRDS(path)\n",
    "    \n",
    "    path<-paste0(dir,\"/universe_table.csv\")\n",
    "    gene_universe<-read.csv(path)\n",
    "    \n",
    "    path<-paste0(dir, \"/OntologiesForGenes.rds\")\n",
    "    ontologies<-readRDS(path)\n",
    "    \n",
    "    path<-paste0(dir, \"/id_names_merged.txt\")\n",
    "    id_names <- read.csv(path, header=F, sep = \"\\t\")\n",
    "    \n",
    "    path<-paste0(dir, \"/WGCNA_table.csv\")\n",
    "    WGCNA <-  read.csv(path)\n",
    "    \n",
    "    path<-paste0(dir, \"/ObservedGOTermsWithSlim.csv\")\n",
    "    go_slim<-read.csv(path, row.names=1)\n",
    "\n",
    "    path<-paste0(dir, \"/motifs.rds\")\n",
    "    motifs <- readRDS(path)\n",
    "    motifs<-unique(motifs)\n",
    "\n",
    "    path<-paste0(dir, \"/SegmentalTriads.csv\")\n",
    "    allTriads<-read.csv(path, stringsAsFactors=F)\n",
    "    only_genes<-allTriads[,c(\"group_id\",\"A\", \"B\", \"D\")]\n",
    "    allTriads<-melt(only_genes, id.vars<-c(\"group_id\"),\n",
    "        variable.name = \"chr_group\",\n",
    "        value.name =\"gene\")\n",
    "    \n",
    "    list(canonicalTranscripts=canonicalTranscripts, \n",
    "       meanTpms=meanTpms,\n",
    "       triads=triads, \n",
    "       triadMovement=triadMovement,\n",
    "       gene_universe=gene_universe, \n",
    "       ontologies=ontologies,\n",
    "       id_names=id_names,\n",
    "       WGCNA=WGCNA,\n",
    "       GOSlim=go_slim,\n",
    "       partition=partition,\n",
    "       motifs=motifs,\n",
    "       allTriads=allTriads\n",
    "       )\n",
    "}\n",
    "\n"
   ]
  },
  {
   "cell_type": "code",
   "execution_count": 2,
   "metadata": {
    "collapsed": false
   },
   "outputs": [],
   "source": [
    "geneInfo<-loadGeneInformation(dir=\"./TablesForExploration\")"
   ]
  },
  {
   "cell_type": "markdown",
   "metadata": {},
   "source": [
    "The ontologies are in the table ```OntologiesForGenes.rds```, the table contains several sets of ontologies, sorted by the column “ID ontology”: \n",
    "\n",
    " * ```IWGSC+Stress``` The merge GO annotation as described in the methods above. \n",
    " * ```GO``` Gene Ontology. From the functional annotation in URGI.\n",
    " * ```PO``` Plant Ontology.  From the functional annotation in URGI.\n",
    " * ```TO``` Plant trait ontology.  From the functional annotation in URGI. \n",
    " * ```andrea_go``` Annotation from Blast2Go to arabidopsis. \n",
    " * ```BUSCO``` GO annotation selecting only the terms present in the plants dataset from [BUSCO](https://busco.ezlab.org)\n",
    " * ```slim_IWGSC+Stress``` Selection of only the GO Slim terms for the merge GO annotation as described in the methods above. \n",
    " * ```slim_GO```Selection of only the GO Slim terms for the Gene Ontology. From the functional annotation in URGI.\n",
    " * ```slim_andrea_go```. Selection of only the GO Slim terms for the annotation from Blast2Go to arabidopsis. \n",
    " * ```slim_BUSCO```. Selection of only the GO Slim terms for the GO annotation selecting only the terms present in the plants dataset from [BUSCO](https://busco.ezlab.org)\n"
   ]
  },
  {
   "cell_type": "markdown",
   "metadata": {},
   "source": [
    "\n",
    "The columns in ```OntologiesForGenes.rds``` are:\n",
    "\n",
    " * Gene  The gene ID. \n",
    " * ID The ID of the onthology\n",
    " * Ontology The subset of the different ontologies that we tried during the study. \n",
    " \n",
    "This table is named ```ontologies``` in the list obtained by the ```loadGeneInformation``` function"
   ]
  },
  {
   "cell_type": "code",
   "execution_count": 3,
   "metadata": {
    "collapsed": false
   },
   "outputs": [
    {
     "data": {
      "text/html": [
       "<table>\n",
       "<thead><tr><th scope=col>Gene</th><th scope=col>ID</th><th scope=col>ontology</th></tr></thead>\n",
       "<tbody>\n",
       "\t<tr><td>TraesCS7A01G430800  </td><td>GO:0032259          </td><td>GO                  </td></tr>\n",
       "\t<tr><td>TraesCS5D01G479200LC</td><td>GO:0005853          </td><td>GO                  </td></tr>\n",
       "\t<tr><td>TraesCS6D01G319800  </td><td>GO:0008233          </td><td>GO                  </td></tr>\n",
       "\t<tr><td>TraesCS2B01G154100  </td><td>GO:0030244          </td><td>GO                  </td></tr>\n",
       "\t<tr><td>TraesCS3D01G196000  </td><td>GO:0009507          </td><td>GO                  </td></tr>\n",
       "\t<tr><td>TraesCS3D01G211800  </td><td>GO:0004672          </td><td>GO                  </td></tr>\n",
       "</tbody>\n",
       "</table>\n"
      ],
      "text/latex": [
       "\\begin{tabular}{r|lll}\n",
       " Gene & ID & ontology\\\\\n",
       "\\hline\n",
       "\t TraesCS7A01G430800   & GO:0032259           & GO                  \\\\\n",
       "\t TraesCS5D01G479200LC & GO:0005853           & GO                  \\\\\n",
       "\t TraesCS6D01G319800   & GO:0008233           & GO                  \\\\\n",
       "\t TraesCS2B01G154100   & GO:0030244           & GO                  \\\\\n",
       "\t TraesCS3D01G196000   & GO:0009507           & GO                  \\\\\n",
       "\t TraesCS3D01G211800   & GO:0004672           & GO                  \\\\\n",
       "\\end{tabular}\n"
      ],
      "text/markdown": [
       "\n",
       "Gene | ID | ontology | \n",
       "|---|---|---|---|---|---|\n",
       "| TraesCS7A01G430800   | GO:0032259           | GO                   | \n",
       "| TraesCS5D01G479200LC | GO:0005853           | GO                   | \n",
       "| TraesCS6D01G319800   | GO:0008233           | GO                   | \n",
       "| TraesCS2B01G154100   | GO:0030244           | GO                   | \n",
       "| TraesCS3D01G196000   | GO:0009507           | GO                   | \n",
       "| TraesCS3D01G211800   | GO:0004672           | GO                   | \n",
       "\n",
       "\n"
      ],
      "text/plain": [
       "  Gene                 ID         ontology\n",
       "1 TraesCS7A01G430800   GO:0032259 GO      \n",
       "2 TraesCS5D01G479200LC GO:0005853 GO      \n",
       "3 TraesCS6D01G319800   GO:0008233 GO      \n",
       "4 TraesCS2B01G154100   GO:0030244 GO      \n",
       "5 TraesCS3D01G196000   GO:0009507 GO      \n",
       "6 TraesCS3D01G211800   GO:0004672 GO      "
      ]
     },
     "metadata": {},
     "output_type": "display_data"
    }
   ],
   "source": [
    "ont<-geneInfo$ontologies\n",
    "head(ont)"
   ]
  },
  {
   "cell_type": "markdown",
   "metadata": {},
   "source": [
    "The table  with the description of the ontologies and their corresponding closest *[GO Slim](http://www.geneontology.org/page/go-subset-guide)* term is in the file ```ObservedGOTermsWithSlim.csv``` or in the ```GOSlim``` in the list form ```loadGeneInformation```. The columns are: \n",
    "* ```acc``` The ID of the GO term\n",
    "* ```term_type``` The type according to GO (```biological_process```, ```cellular_component```, ```molecular_function```)\n",
    "* ```name``` Description of the GO term\n",
    "* ```slim_acc``` GO ID of the closest *GO Slim* \n",
    "* ```slim_type``` Type of the *GO Slim* term\n",
    "* ```slim_name``` Description of the slim term. \n",
    "\n",
    "The *GO Slim* terms are useful to obtain an overview of the functions of the gene. "
   ]
  },
  {
   "cell_type": "code",
   "execution_count": 4,
   "metadata": {
    "collapsed": false
   },
   "outputs": [
    {
     "data": {
      "text/html": [
       "<table>\n",
       "<thead><tr><th></th><th scope=col>acc</th><th scope=col>term_type</th><th scope=col>name</th><th scope=col>slim_acc</th><th scope=col>slim_term_type</th><th scope=col>slim_name</th></tr></thead>\n",
       "<tbody>\n",
       "\t<tr><th scope=row>0</th><td>GO:0000002                            </td><td>biological_process                    </td><td>mitochondrial genome maintenance      </td><td>GO:0008150                            </td><td>biological_process                    </td><td>biological_process                    </td></tr>\n",
       "\t<tr><th scope=row>1</th><td>GO:0000002                            </td><td>biological_process                    </td><td>mitochondrial genome maintenance      </td><td>GO:0009987                            </td><td>biological_process                    </td><td>cellular process                      </td></tr>\n",
       "\t<tr><th scope=row>2</th><td>GO:0000002                            </td><td>biological_process                    </td><td>mitochondrial genome maintenance      </td><td>GO:0016043                            </td><td>biological_process                    </td><td>cellular component organization       </td></tr>\n",
       "\t<tr><th scope=row>3</th><td>GO:0000003                            </td><td>biological_process                    </td><td>reproduction                          </td><td>GO:0008150                            </td><td>biological_process                    </td><td>biological_process                    </td></tr>\n",
       "\t<tr><th scope=row>4</th><td>GO:0000009                            </td><td>molecular_function                    </td><td>alpha-1,6-mannosyltransferase activity</td><td>GO:0003674                            </td><td>molecular_function                    </td><td>molecular_function                    </td></tr>\n",
       "\t<tr><th scope=row>5</th><td>GO:0000009                            </td><td>molecular_function                    </td><td>alpha-1,6-mannosyltransferase activity</td><td>GO:0003824                            </td><td>molecular_function                    </td><td>catalytic activity                    </td></tr>\n",
       "</tbody>\n",
       "</table>\n"
      ],
      "text/latex": [
       "\\begin{tabular}{r|llllll}\n",
       "  & acc & term\\_type & name & slim\\_acc & slim\\_term\\_type & slim\\_name\\\\\n",
       "\\hline\n",
       "\t0 & GO:0000002                             & biological\\_process                   & mitochondrial genome maintenance       & GO:0008150                             & biological\\_process                   & biological\\_process                  \\\\\n",
       "\t1 & GO:0000002                             & biological\\_process                   & mitochondrial genome maintenance       & GO:0009987                             & biological\\_process                   & cellular process                      \\\\\n",
       "\t2 & GO:0000002                             & biological\\_process                   & mitochondrial genome maintenance       & GO:0016043                             & biological\\_process                   & cellular component organization       \\\\\n",
       "\t3 & GO:0000003                             & biological\\_process                   & reproduction                           & GO:0008150                             & biological\\_process                   & biological\\_process                  \\\\\n",
       "\t4 & GO:0000009                             & molecular\\_function                   & alpha-1,6-mannosyltransferase activity & GO:0003674                             & molecular\\_function                   & molecular\\_function                  \\\\\n",
       "\t5 & GO:0000009                             & molecular\\_function                   & alpha-1,6-mannosyltransferase activity & GO:0003824                             & molecular\\_function                   & catalytic activity                    \\\\\n",
       "\\end{tabular}\n"
      ],
      "text/markdown": [
       "\n",
       "| <!--/--> | acc | term_type | name | slim_acc | slim_term_type | slim_name | \n",
       "|---|---|---|---|---|---|\n",
       "| 0 | GO:0000002                             | biological_process                     | mitochondrial genome maintenance       | GO:0008150                             | biological_process                     | biological_process                     | \n",
       "| 1 | GO:0000002                             | biological_process                     | mitochondrial genome maintenance       | GO:0009987                             | biological_process                     | cellular process                       | \n",
       "| 2 | GO:0000002                             | biological_process                     | mitochondrial genome maintenance       | GO:0016043                             | biological_process                     | cellular component organization        | \n",
       "| 3 | GO:0000003                             | biological_process                     | reproduction                           | GO:0008150                             | biological_process                     | biological_process                     | \n",
       "| 4 | GO:0000009                             | molecular_function                     | alpha-1,6-mannosyltransferase activity | GO:0003674                             | molecular_function                     | molecular_function                     | \n",
       "| 5 | GO:0000009                             | molecular_function                     | alpha-1,6-mannosyltransferase activity | GO:0003824                             | molecular_function                     | catalytic activity                     | \n",
       "\n",
       "\n"
      ],
      "text/plain": [
       "  acc        term_type          name                                  \n",
       "0 GO:0000002 biological_process mitochondrial genome maintenance      \n",
       "1 GO:0000002 biological_process mitochondrial genome maintenance      \n",
       "2 GO:0000002 biological_process mitochondrial genome maintenance      \n",
       "3 GO:0000003 biological_process reproduction                          \n",
       "4 GO:0000009 molecular_function alpha-1,6-mannosyltransferase activity\n",
       "5 GO:0000009 molecular_function alpha-1,6-mannosyltransferase activity\n",
       "  slim_acc   slim_term_type     slim_name                      \n",
       "0 GO:0008150 biological_process biological_process             \n",
       "1 GO:0009987 biological_process cellular process               \n",
       "2 GO:0016043 biological_process cellular component organization\n",
       "3 GO:0008150 biological_process biological_process             \n",
       "4 GO:0003674 molecular_function molecular_function             \n",
       "5 GO:0003824 molecular_function catalytic activity             "
      ]
     },
     "metadata": {},
     "output_type": "display_data"
    }
   ],
   "source": [
    "ont_desc<-geneInfo$GOSlim\n",
    "head(ont_desc)"
   ]
  },
  {
   "cell_type": "markdown",
   "metadata": {},
   "source": [
    "With those two tables it is possible to obtain the ontologies related for all the genes. For example, the following query is to display the ontologies used for gene ```TraesCS6A01G207600```. "
   ]
  },
  {
   "cell_type": "code",
   "execution_count": 5,
   "metadata": {
    "collapsed": false
   },
   "outputs": [
    {
     "data": {
      "text/html": [
       "<table>\n",
       "<thead><tr><th scope=col>Gene</th><th scope=col>acc</th><th scope=col>term_type</th><th scope=col>name</th></tr></thead>\n",
       "<tbody>\n",
       "\t<tr><td>TraesCS6A01G207600            </td><td>GO:0008131                    </td><td>molecular_function            </td><td>primary amine oxidase activity</td></tr>\n",
       "\t<tr><td>TraesCS6A01G207600            </td><td>GO:0009308                    </td><td>biological_process            </td><td>amine metabolic process       </td></tr>\n",
       "\t<tr><td>TraesCS6A01G207600            </td><td>GO:0005507                    </td><td>molecular_function            </td><td>copper ion binding            </td></tr>\n",
       "\t<tr><td>TraesCS6A01G207600            </td><td>GO:0048038                    </td><td>molecular_function            </td><td>quinone binding               </td></tr>\n",
       "\t<tr><td>TraesCS6A01G207600            </td><td>GO:0055114                    </td><td>biological_process            </td><td>oxidation-reduction process   </td></tr>\n",
       "\t<tr><td>TraesCS6A01G207600            </td><td>GO:0009507                    </td><td>cellular_component            </td><td>chloroplast                   </td></tr>\n",
       "\t<tr><td>TraesCS6A01G207600            </td><td>GO:0005777                    </td><td>cellular_component            </td><td>peroxisome                    </td></tr>\n",
       "</tbody>\n",
       "</table>\n"
      ],
      "text/latex": [
       "\\begin{tabular}{r|llll}\n",
       " Gene & acc & term\\_type & name\\\\\n",
       "\\hline\n",
       "\t TraesCS6A01G207600             & GO:0008131                     & molecular\\_function           & primary amine oxidase activity\\\\\n",
       "\t TraesCS6A01G207600             & GO:0009308                     & biological\\_process           & amine metabolic process       \\\\\n",
       "\t TraesCS6A01G207600             & GO:0005507                     & molecular\\_function           & copper ion binding            \\\\\n",
       "\t TraesCS6A01G207600             & GO:0048038                     & molecular\\_function           & quinone binding               \\\\\n",
       "\t TraesCS6A01G207600             & GO:0055114                     & biological\\_process           & oxidation-reduction process   \\\\\n",
       "\t TraesCS6A01G207600             & GO:0009507                     & cellular\\_component           & chloroplast                   \\\\\n",
       "\t TraesCS6A01G207600             & GO:0005777                     & cellular\\_component           & peroxisome                    \\\\\n",
       "\\end{tabular}\n"
      ],
      "text/markdown": [
       "\n",
       "Gene | acc | term_type | name | \n",
       "|---|---|---|---|---|---|---|\n",
       "| TraesCS6A01G207600             | GO:0008131                     | molecular_function             | primary amine oxidase activity | \n",
       "| TraesCS6A01G207600             | GO:0009308                     | biological_process             | amine metabolic process        | \n",
       "| TraesCS6A01G207600             | GO:0005507                     | molecular_function             | copper ion binding             | \n",
       "| TraesCS6A01G207600             | GO:0048038                     | molecular_function             | quinone binding                | \n",
       "| TraesCS6A01G207600             | GO:0055114                     | biological_process             | oxidation-reduction process    | \n",
       "| TraesCS6A01G207600             | GO:0009507                     | cellular_component             | chloroplast                    | \n",
       "| TraesCS6A01G207600             | GO:0005777                     | cellular_component             | peroxisome                     | \n",
       "\n",
       "\n"
      ],
      "text/plain": [
       "  Gene               acc        term_type         \n",
       "1 TraesCS6A01G207600 GO:0008131 molecular_function\n",
       "2 TraesCS6A01G207600 GO:0009308 biological_process\n",
       "3 TraesCS6A01G207600 GO:0005507 molecular_function\n",
       "4 TraesCS6A01G207600 GO:0048038 molecular_function\n",
       "5 TraesCS6A01G207600 GO:0055114 biological_process\n",
       "6 TraesCS6A01G207600 GO:0009507 cellular_component\n",
       "7 TraesCS6A01G207600 GO:0005777 cellular_component\n",
       "  name                          \n",
       "1 primary amine oxidase activity\n",
       "2 amine metabolic process       \n",
       "3 copper ion binding            \n",
       "4 quinone binding               \n",
       "5 oxidation-reduction process   \n",
       "6 chloroplast                   \n",
       "7 peroxisome                    "
      ]
     },
     "metadata": {},
     "output_type": "display_data"
    }
   ],
   "source": [
    "sqldf(\"SELECT DISTINCT ont.Gene, acc, term_type, name FROM ont JOIN ont_desc on acc=ID WHERE `ontology`='IWGSC+Stress' AND Gene='TraesCS6A01G207600'\")"
   ]
  },
  {
   "cell_type": "code",
   "execution_count": null,
   "metadata": {
    "collapsed": true
   },
   "outputs": [],
   "source": []
  }
 ],
 "metadata": {
  "kernelspec": {
   "display_name": "R",
   "language": "R",
   "name": "ir"
  },
  "language_info": {
   "codemirror_mode": "r",
   "file_extension": ".r",
   "mimetype": "text/x-r-source",
   "name": "R",
   "pygments_lexer": "r",
   "version": "3.5.1"
  }
 },
 "nbformat": 4,
 "nbformat_minor": 2
}
