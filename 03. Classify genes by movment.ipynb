{
 "cells": [
  {
   "cell_type": "code",
   "execution_count": 1,
   "metadata": {
    "collapsed": false
   },
   "outputs": [
    {
     "name": "stderr",
     "output_type": "stream",
     "text": [
      "Loading required package: gsubfn\n",
      "Loading required package: proto\n",
      "Loading required package: RSQLite\n",
      "Loading required package: spam\n",
      "Loading required package: grid\n",
      "Spam version 1.4-0 (2016-08-29) is loaded.\n",
      "Type 'help( Spam)' or 'demo( spam)' for a short introduction \n",
      "and overview of this package.\n",
      "Help for individual functions is also obtained by adding the\n",
      "suffix '.spam' to the function name, e.g. 'help( chol.spam)'.\n",
      "\n",
      "Attaching package: ‘spam’\n",
      "\n",
      "The following objects are masked from ‘package:base’:\n",
      "\n",
      "    backsolve, forwardsolve\n",
      "\n",
      "Loading required package: maps\n",
      "--\n",
      "Consider donating at: http://ggtern.com\n",
      "Even small amounts (say $10-50) are very much appreciated!\n",
      "Remember to cite, run citation(package = 'ggtern') for further info.\n",
      "--\n",
      "\n",
      "Attaching package: ‘ggtern’\n",
      "\n",
      "The following objects are masked from ‘package:gridExtra’:\n",
      "\n",
      "    arrangeGrob, grid.arrange\n",
      "\n",
      "The following objects are masked from ‘package:ggplot2’:\n",
      "\n",
      "    %+%, aes, annotate, calc_element, ggplot, ggplot_build,\n",
      "    ggplot_gtable, ggplotGrob, ggsave, layer_data, theme, theme_bw,\n",
      "    theme_classic, theme_dark, theme_gray, theme_light, theme_linedraw,\n",
      "    theme_minimal, theme_void\n",
      "\n",
      "Loading required package: magic\n",
      "Loading required package: abind\n",
      "Loading required package: BiasedUrn\n",
      "Loading required package: geneLenDataBase\n",
      "\n"
     ]
    }
   ],
   "source": [
    "library(ggplot2)\n",
    "library(reshape2)\n",
    "library(sqldf)\n",
    "library(fields)\n",
    "library(gridExtra)\n",
    "library(ggtern)\n",
    "library(clue)\n",
    "library(geometry)\n",
    "library(gtable)\n",
    "library(goseq)"
   ]
  },
  {
   "cell_type": "code",
   "execution_count": 2,
   "metadata": {
    "collapsed": false
   },
   "outputs": [],
   "source": [
    "folder<-\"./TablesForExploration\"\n",
    "\n",
    "loadGeneInformation<-function(dir=\"../TablesForExploration\"){\n",
    "    path<-paste0(dir,\"/CanonicalTranscript.rds\")\n",
    "    canonicalTranscripts<-readRDS(path)\n",
    "    canonicalTranscripts$intron_length<- canonicalTranscripts$mrna_length -  canonicalTranscripts$exon_length\n",
    "    canonicalTranscripts$chr_group <- substr(canonicalTranscripts$Chr,4,4)\n",
    "    canonicalTranscripts$genome    <- substr(canonicalTranscripts$Chr,5,5)\n",
    "    \n",
    "    path<-paste0(dir, \"/MeanTpms.rds\")\n",
    "    meanTpms <- readRDS(path)\n",
    "    \n",
    "    path<-paste0(dir,\"/TriadMovement.rds\")\n",
    "    triadMovement<-readRDS(path)\n",
    "    \n",
    "    path<-paste0(dir,\"/Triads.rds\")\n",
    "    triads<-readRDS(path)\n",
    "    \n",
    "    path<-paste0(dir,\"/universe_table.csv\")\n",
    "    gene_universe<-read.csv(path)\n",
    "    \n",
    "    path<-paste0(dir, \"/OntologiesForGenes.rds\")\n",
    "    ontologies<-readRDS(path)\n",
    "    \n",
    "    path<-paste0(dir, \"/id_names_merged.txt\")\n",
    "    id_names <- read.csv(path, header=F, sep = \"\\t\")\n",
    "    \n",
    "    path<-paste0(dir, \"/WGCNA_table.csv\")\n",
    "    WGCNA <-  read.csv(path)\n",
    "    \n",
    "    list(canonicalTranscripts=canonicalTranscripts, \n",
    "         meanTpms=meanTpms,\n",
    "         triads=triads, \n",
    "         triadMovement=triadMovement,\n",
    "         gene_universe=gene_universe, \n",
    "         ontologies=ontologies,\n",
    "         id_names=id_names,\n",
    "         WGCNA=WGCNA\n",
    "        )\n",
    "}\n",
    "geneInformation<-loadGeneInformation(dir=folder)"
   ]
  },
  {
   "cell_type": "markdown",
   "metadata": {},
   "source": [
    "# Variation in homoeolog expression bias across tissues (Stable/Dynamic triads).\n",
    "\n",
    "To define the variation in homoeolog expression bias of each triad across the intermediate tissues we calculated the Euclidean distance between the triad’s global position (combined analysis) and each\n",
    "individual tissue in which the triad was considered expressed. We included only triads which were considered expressed in at least six tissues based on the combined analysis criteria outlined above. The average of these distances was defined as the “triad mean distance”. We ranked triads by their triad mean distance and the percentile was calculated by:\n",
    "\n",
    "$$percentile_{i} = truncate\\left(\\frac{rank(cmd_{i})}{length(CMD)}\\right)$$\n",
    "\n",
    "where $CMD$ is the vector containing all the ‘triad mean distance'. The first and last deciles where classified as stable 10% and dynamic 10% triads, respectively. A similar approach was used to define the correspond 5% and 25% extremes of the distribution. This analysis was conducted independently for the Chinese Spring no stress samples, the Azhurnaya developmental time course, and for each of the four tissue-specific networks. A visual representation is provided in Fig. S18.\n",
    "   \n",
    "A detailed example of one triad across tissues is presented in Table S36 to illustrate how a triad which is expressed across six or more tissues based on the combined analysis, can include individual homoeologous genes which are expressed across less than six tissues. Fig. 3E in the main text illustrates this as we plotted the graph based on genes, and not triads. These criteria were used to ensure that we did not discard triads in which only a single homoeolog was expressed (dominant)."
   ]
  },
  {
   "cell_type": "code",
   "execution_count": 3,
   "metadata": {},
   "outputs": [
    {
     "data": {
      "text/html": [
       "<ol class=list-inline>\n",
       "\t<li>HC_Development</li>\n",
       "\t<li>HC_850_samples</li>\n",
       "\t<li>HC_CS_no_stress</li>\n",
       "\t<li>HC_CS_NB_inc_stress</li>\n",
       "\t<li>HC_abiotic</li>\n",
       "\t<li>HC_disease</li>\n",
       "\t<li>HC_grain</li>\n",
       "\t<li>HC_leaf</li>\n",
       "\t<li>HC_root</li>\n",
       "\t<li>HC_spike</li>\n",
       "\t<li>HC_abiotic_merged_control</li>\n",
       "\t<li>HC_disease_merged_control</li>\n",
       "\t<li>HC_stress_control</li>\n",
       "\t<li>HC_abiotic_stress_control</li>\n",
       "\t<li>HC_disease_stress_control</li>\n",
       "\t<li>HC_abiotic_stress</li>\n",
       "\t<li>HC_disease_stress</li>\n",
       "\t<li>HC_stress</li>\n",
       "</ol>\n"
      ],
      "text/latex": [
       "\\begin{enumerate*}\n",
       "\\item HC\\_Development\n",
       "\\item HC\\_850\\_samples\n",
       "\\item HC\\_CS\\_no\\_stress\n",
       "\\item HC\\_CS\\_NB\\_inc\\_stress\n",
       "\\item HC\\_abiotic\n",
       "\\item HC\\_disease\n",
       "\\item HC\\_grain\n",
       "\\item HC\\_leaf\n",
       "\\item HC\\_root\n",
       "\\item HC\\_spike\n",
       "\\item HC\\_abiotic\\_merged\\_control\n",
       "\\item HC\\_disease\\_merged\\_control\n",
       "\\item HC\\_stress\\_control\n",
       "\\item HC\\_abiotic\\_stress\\_control\n",
       "\\item HC\\_disease\\_stress\\_control\n",
       "\\item HC\\_abiotic\\_stress\n",
       "\\item HC\\_disease\\_stress\n",
       "\\item HC\\_stress\n",
       "\\end{enumerate*}\n"
      ],
      "text/markdown": [
       "1. HC_Development\n",
       "2. HC_850_samples\n",
       "3. HC_CS_no_stress\n",
       "4. HC_CS_NB_inc_stress\n",
       "5. HC_abiotic\n",
       "6. HC_disease\n",
       "7. HC_grain\n",
       "8. HC_leaf\n",
       "9. HC_root\n",
       "10. HC_spike\n",
       "11. HC_abiotic_merged_control\n",
       "12. HC_disease_merged_control\n",
       "13. HC_stress_control\n",
       "14. HC_abiotic_stress_control\n",
       "15. HC_disease_stress_control\n",
       "16. HC_abiotic_stress\n",
       "17. HC_disease_stress\n",
       "18. HC_stress\n",
       "\n",
       "\n"
      ],
      "text/plain": [
       " [1] HC_Development            HC_850_samples           \n",
       " [3] HC_CS_no_stress           HC_CS_NB_inc_stress      \n",
       " [5] HC_abiotic                HC_disease               \n",
       " [7] HC_grain                  HC_leaf                  \n",
       " [9] HC_root                   HC_spike                 \n",
       "[11] HC_abiotic_merged_control HC_disease_merged_control\n",
       "[13] HC_stress_control         HC_abiotic_stress_control\n",
       "[15] HC_disease_stress_control HC_abiotic_stress        \n",
       "[17] HC_disease_stress         HC_stress                \n",
       "18 Levels: HC_Development HC_850_samples ... HC_stress"
      ]
     },
     "metadata": {},
     "output_type": "display_data"
    }
   ],
   "source": [
    "unique(geneInformation$triadMovement$dataset)"
   ]
  },
  {
   "cell_type": "code",
   "execution_count": null,
   "metadata": {
    "collapsed": false
   },
   "outputs": [],
   "source": []
  },
  {
   "cell_type": "code",
   "execution_count": 4,
   "metadata": {
    "collapsed": false
   },
   "outputs": [
    {
     "data": {
      "text/html": [
       "<ol class=list-inline>\n",
       "\t<li>'group_id'</li>\n",
       "\t<li>'factor_count'</li>\n",
       "\t<li>'central_total_distance'</li>\n",
       "\t<li>'central_mean_distance'</li>\n",
       "\t<li>'central_max_distance'</li>\n",
       "\t<li>'central_sd_distance'</li>\n",
       "\t<li>'central_max_over_mean'</li>\n",
       "\t<li>'factor_total_distance'</li>\n",
       "\t<li>'factor_mean_distance'</li>\n",
       "\t<li>'factor_max_distance'</li>\n",
       "\t<li>'factor_sd_distance'</li>\n",
       "\t<li>'factor_max_over_mean'</li>\n",
       "\t<li>'category'</li>\n",
       "\t<li>'sum_mean_tpm'</li>\n",
       "\t<li>'total_categories'</li>\n",
       "\t<li>'categories'</li>\n",
       "\t<li>'Central'</li>\n",
       "\t<li>'A.dominant'</li>\n",
       "\t<li>'A.suppressed'</li>\n",
       "\t<li>'B.dominant'</li>\n",
       "\t<li>'B.suppressed'</li>\n",
       "\t<li>'D.dominant'</li>\n",
       "\t<li>'D.suppressed'</li>\n",
       "\t<li>'dataset'</li>\n",
       "</ol>\n"
      ],
      "text/latex": [
       "\\begin{enumerate*}\n",
       "\\item 'group\\_id'\n",
       "\\item 'factor\\_count'\n",
       "\\item 'central\\_total\\_distance'\n",
       "\\item 'central\\_mean\\_distance'\n",
       "\\item 'central\\_max\\_distance'\n",
       "\\item 'central\\_sd\\_distance'\n",
       "\\item 'central\\_max\\_over\\_mean'\n",
       "\\item 'factor\\_total\\_distance'\n",
       "\\item 'factor\\_mean\\_distance'\n",
       "\\item 'factor\\_max\\_distance'\n",
       "\\item 'factor\\_sd\\_distance'\n",
       "\\item 'factor\\_max\\_over\\_mean'\n",
       "\\item 'category'\n",
       "\\item 'sum\\_mean\\_tpm'\n",
       "\\item 'total\\_categories'\n",
       "\\item 'categories'\n",
       "\\item 'Central'\n",
       "\\item 'A.dominant'\n",
       "\\item 'A.suppressed'\n",
       "\\item 'B.dominant'\n",
       "\\item 'B.suppressed'\n",
       "\\item 'D.dominant'\n",
       "\\item 'D.suppressed'\n",
       "\\item 'dataset'\n",
       "\\end{enumerate*}\n"
      ],
      "text/markdown": [
       "1. 'group_id'\n",
       "2. 'factor_count'\n",
       "3. 'central_total_distance'\n",
       "4. 'central_mean_distance'\n",
       "5. 'central_max_distance'\n",
       "6. 'central_sd_distance'\n",
       "7. 'central_max_over_mean'\n",
       "8. 'factor_total_distance'\n",
       "9. 'factor_mean_distance'\n",
       "10. 'factor_max_distance'\n",
       "11. 'factor_sd_distance'\n",
       "12. 'factor_max_over_mean'\n",
       "13. 'category'\n",
       "14. 'sum_mean_tpm'\n",
       "15. 'total_categories'\n",
       "16. 'categories'\n",
       "17. 'Central'\n",
       "18. 'A.dominant'\n",
       "19. 'A.suppressed'\n",
       "20. 'B.dominant'\n",
       "21. 'B.suppressed'\n",
       "22. 'D.dominant'\n",
       "23. 'D.suppressed'\n",
       "24. 'dataset'\n",
       "\n",
       "\n"
      ],
      "text/plain": [
       " [1] \"group_id\"               \"factor_count\"           \"central_total_distance\"\n",
       " [4] \"central_mean_distance\"  \"central_max_distance\"   \"central_sd_distance\"   \n",
       " [7] \"central_max_over_mean\"  \"factor_total_distance\"  \"factor_mean_distance\"  \n",
       "[10] \"factor_max_distance\"    \"factor_sd_distance\"     \"factor_max_over_mean\"  \n",
       "[13] \"category\"               \"sum_mean_tpm\"           \"total_categories\"      \n",
       "[16] \"categories\"             \"Central\"                \"A.dominant\"            \n",
       "[19] \"A.suppressed\"           \"B.dominant\"             \"B.suppressed\"          \n",
       "[22] \"D.dominant\"             \"D.suppressed\"           \"dataset\"               "
      ]
     },
     "metadata": {},
     "output_type": "display_data"
    },
    {
     "data": {
      "text/html": [
       "<ol class=list-inline>\n",
       "\t<li>'B.suppressed'</li>\n",
       "\t<li>'Central'</li>\n",
       "\t<li>'Central'</li>\n",
       "\t<li>'B.suppressed'</li>\n",
       "\t<li>'A.suppressed'</li>\n",
       "\t<li>'Central'</li>\n",
       "</ol>\n"
      ],
      "text/latex": [
       "\\begin{enumerate*}\n",
       "\\item 'B.suppressed'\n",
       "\\item 'Central'\n",
       "\\item 'Central'\n",
       "\\item 'B.suppressed'\n",
       "\\item 'A.suppressed'\n",
       "\\item 'Central'\n",
       "\\end{enumerate*}\n"
      ],
      "text/markdown": [
       "1. 'B.suppressed'\n",
       "2. 'Central'\n",
       "3. 'Central'\n",
       "4. 'B.suppressed'\n",
       "5. 'A.suppressed'\n",
       "6. 'Central'\n",
       "\n",
       "\n"
      ],
      "text/plain": [
       "[1] \"B.suppressed\" \"Central\"      \"Central\"      \"B.suppressed\" \"A.suppressed\"\n",
       "[6] \"Central\"     "
      ]
     },
     "metadata": {},
     "output_type": "display_data"
    },
    {
     "name": "stdout",
     "output_type": "stream",
     "text": [
      "[1] \"./gene_set_files/movement/HC_CS_no_stress/\"\n",
      "[1] \"Dir exists! \"\n",
      "[1] \"./gene_set_files/movement/HC_Development/\"\n",
      "[1] \"Dir exists! \"\n",
      "[1] \"./gene_set_files/movement/HC_850_samples/\"\n",
      "[1] \"Dir exists! \"\n"
     ]
    }
   ],
   "source": [
    "getBottomAndTopPercent<-function(geneInformation, \n",
    "                                 dataset=\"HC_CS_no_stress\", \n",
    "                                min_factor_count=5){\n",
    "    \n",
    "    triadMovement<-geneInformation$triadMovement\n",
    "    triads<-geneInformation$triads\n",
    "    local_tm <- triadMovement[triadMovement$dataset == dataset & \n",
    "                              triadMovement$factor_count > min_factor_count ,\n",
    "                             c(\"group_id\",\"central_mean_distance\")]\n",
    "\n",
    "    local_tm$rank <- rank(local_tm$central_mean_distance) / nrow(local_tm)\n",
    "    \n",
    "    low_10 <- local_tm[local_tm$rank < 0.1, ] \n",
    "    low_25 <- local_tm[local_tm$rank < 0.25, ]\n",
    "    low_50 <- local_tm[local_tm$rank < 0.50, ]\n",
    "    top_10 <- local_tm[local_tm$rank > 0.9, ]\n",
    "    top_50 <- local_tm[local_tm$rank > 0.50, ]\n",
    "    top_25 <- local_tm[local_tm$rank > 0.75, ]\n",
    "    \n",
    "    middle20pc <- local_tm[local_tm$rank < 0.60 & local_tm$rank > 0.40, ]\n",
    "    print(nrow(local_tm))\n",
    "    \n",
    "    low_10$category<-\"low_10pc\"\n",
    "    low_25$category<-\"low_25pc\"\n",
    "    top_25$category<-\"top_25pc\"\n",
    "    top_10$category<-\"top_10pc\"\n",
    "    top_50$category<-\"top_50pc\"\n",
    "    low_50$category<-\"low_50pc\"\n",
    "    middle20pc$category<-\"middle_40to60pc\"\n",
    "    \n",
    "    groups<-rbind(low_10,low_25,top_10, top_25, top_50, low_50, middle20pc)\n",
    "    genes<-sqldf(\"SELECT DISTINCT gene, category from groups JOIN triads ON \n",
    "triads.group_id = groups.group_id\")\n",
    "    genes\n",
    "}\n",
    "\n",
    "colnames(geneInformation$triadMovement)\n",
    "head(geneInformation$triadMovement$category)\n",
    "for(dataset in c(\"HC_CS_no_stress\", \"HC_Development\", \"HC_850_samples\" )){\n",
    "    dir_path <- paste0(\"./gene_set_files/movement/\",dataset,\"/\")\n",
    "    if(dir.exists(dir_path)){\n",
    "        print(dir_path)\n",
    "        print(\"Dir exists! \")\n",
    "        next\n",
    "    }\n",
    "    dir.create(dir_path, recursive=T)\n",
    "    gene_cats <- getBottomAndTopPercent(geneInformation, dataset=dataset)\n",
    "    for(cat in unique(gene_cats$category)){\n",
    "        name<-paste0(dataset,\"_movement_\",cat)\n",
    "        print(name)\n",
    "        genes_to_plot<-gene_cats[gene_cats$category == cat, \"gene\"]\n",
    "    \n",
    "        write.csv(genes_to_plot, file=paste0(dir_path,name,\".txt\"), \n",
    "                  row.names=F)\n",
    "    }\n",
    "}\n"
   ]
  },
  {
   "cell_type": "code",
   "execution_count": 5,
   "metadata": {
    "collapsed": false
   },
   "outputs": [
    {
     "name": "stdout",
     "output_type": "stream",
     "text": [
      "[1] 14258\n"
     ]
    },
    {
     "data": {
      "image/png": "[encoded data removed]",
      "text/plain": [
       "plot without title"
      ]
     },
     "metadata": {},
     "output_type": "display_data",
     "source": "R display func"
    }
   ],
   "source": [
    "movment.colors <- c(\"Dynamic\"=\"#e41a1c\", \"Middle 80\"=\"#bdbdbd\", \"Stable\"=\"#377eb8\") \n",
    "get_legend<-function(myggplot){\n",
    "  tmp <- ggplot_gtable(ggplot_build(myggplot))\n",
    "  leg <- which(sapply(tmp$grobs, function(x) x$name) == \"guide-box\")\n",
    "  legend <- tmp$grobs[[leg]]\n",
    "  return(legend)\n",
    "}\n",
    "group.colors<-c(A.dominant = \"#579D1C\", B.dominant = \"#4B1F6F\", D.dominant =\"#FF950E\", \n",
    "             Central=\"#AAAAAA\",Balanced=\"#AAAAAA\", \n",
    "             A.suppressed = \"#b2E08a\", B.suppressed = \"#0eC7ff\", D.suppressed =\"#ffCF0e\")\n",
    "chr.colors<-c(A = \"#579D1C\", B = \"#4B1F6F\", D =\"#FF950E\")\n",
    "                      \n",
    "plot_movement_of_triad<-function(triads_df, group_id=1788, \n",
    "                                  group.colors = c(A.dominant = \"#579D1C\", B.dominant = \"#4B1F6F\", D.dominant =\"#FF950E\", \n",
    "                        Central=\"#AAAAAA\", \n",
    "                        A.suppressed = \"#7FD127\", B.suppressed = \"#7D31AF\", D.suppressed =\"#FFAD42\" ), \n",
    "                                 movment.colors = c(\"Dynamic\"=\"#e41a1c\", \"Middle 80\"=\"#bdbdbd\", \"Stable\"=\"#377eb8\"), \n",
    "                                mean.color=\"#000000\"\n",
    "                                ){\n",
    "     test_triad2 <-triads_df  [triads_df$group_id==group_id,]\n",
    "     mean        <-test_triad2[test_triad2$factor==\"all_mean_filter\", ]\n",
    "     test_triad2 <-test_triad2[test_triad2$factor!=\"all_mean_filter\", ]\n",
    "     test_triad3 <-test_triad2\n",
    "     group.colors[\"mean\"]<-mean.color\n",
    "     test_triad3$A<-mean$A\n",
    "     test_triad3$B<-mean$B\n",
    "     test_triad3$D<-mean$D\n",
    "     test_triad3$description<-\"mean\"\n",
    "     \n",
    "     test_triad4<-rbind(test_triad2,test_triad3)\n",
    "     #print(head(test_triad2))\n",
    "     \n",
    "     p <- ggtern(test_triad4,aes(A,B,D, color=description))\n",
    "     p <- p + geom_point()  \n",
    "     p <- p + geom_line(aes(group=factor),color=mean.color)\n",
    "     p <- p + scale_color_manual(values=group.colors)\n",
    "     p <- p + theme_bw()   \n",
    "     p <- p + theme(legend.position = \"none\") + theme_arrownormal()\n",
    "     p <- p + theme(tern.axis.ticks.length.major = unit(0.6, \"cm\"))\n",
    "     p\n",
    "}\n",
    "\n",
    "\n",
    "\n",
    "plotHistogram<-function(table, column=\"size_cds\", \n",
    "                        probs = c( 0.1, 0.25, 0.5, 0.75, 0.9, 0.95), \n",
    "                        movment.colors = c(\"Dynamic\"=\"#e41a1c\", \"Middle 80\"=\"#bdbdbd\", \"Stable\"=\"#377eb8\") ){\n",
    "    table<-table[table[,column]>0,]\n",
    "    quantiles <- data.frame(quantile(table[,column],\n",
    "                                     prob=probs,\n",
    "                                     na.rm=TRUE, \n",
    "                                     include.lowest=TRUE), \n",
    "                            stringsAsFactors=FALSE)\n",
    "    quantiles$quant<-rownames(quantiles)\n",
    "    #print(head(quantiles))\n",
    "    colnames(quantiles)<-c(\"value\", \"quant\")\n",
    "    values<-quantiles$values\n",
    "    local_mean<-mean(table[,column])\n",
    "    local_sd<-sd(table[,column])\n",
    "    local_max <-  max(table[,column])\n",
    "    p <- ggplot(table, aes_string(column))\n",
    "   \n",
    "     table <- within(table,\n",
    "         quantile <- as.integer(\n",
    "             cut(table[,column],\n",
    "                 unique(quantile(table[,column], \n",
    "                    prob=probs,\n",
    "                    na.rm=TRUE, \n",
    "                    include.lowest=TRUE))\n",
    "                 )\n",
    "             ))\n",
    "\n",
    "     \n",
    "    iq <- quantiles$value[4] - quantiles$value[2]\n",
    "\n",
    "     xmax <- quantiles$value[3] + (iq * 2)\n",
    "     xmin <- quantiles$value[3] - (iq * 2)\n",
    "     \n",
    "    table$quantile<-ifelse(is.na(table$quantile),ifelse(table[,column] < 0.2, \"Stable\",\"Dynamic\"), \"Middle 80\")\n",
    "    table$quantile<-as.factor(table$quantile)\n",
    "     \n",
    "     p <- ggplot(table, aes_string(column, fill=\"quantile\"))\n",
    "     p <- p + geom_vline(data=quantiles,aes(xintercept=quantiles$value) )\n",
    "     for(i in seq(1,nrow(quantiles))){\n",
    "        x_pos<-quantiles$value[i]\n",
    "    }\n",
    "    p <- p  + xlim(xmin, xmax) #+\n",
    "    p <- p +  scale_fill_manual(values=movment.colors)\n",
    "    p <- p + geom_histogram(bins=50, position = \"identity\") + theme_bw() \n",
    "    p <- p + theme(plot.title = element_text(size=6))\n",
    "    #p <- p + theme(legend.direction = \"horizontal\")\n",
    "    p <- p + theme(legend.position = c(0.8, 0.7))\n",
    "    p\n",
    "} \n",
    "\n",
    "\n",
    "plot_panel_3B<-function(geneInformation, \n",
    "                        dataset=\"HC_CS_no_stress\",\n",
    "                        min_tissues = 5,\n",
    "                        movment.colors = c(\"Dynamic\"=\"#e41a1c\", \"Middle 80\"=\"#bdbdbd\", \"Stable\"=\"#377eb8\") ){\n",
    "    \n",
    "   triads<-geneInformation$triads\n",
    "   triads <- triads[triads$dataset==dataset, \n",
    "                    c(\"group_id\", \"factor\", \"description\", \"triad_sum\", \"chr_group\", \"normalised_triad\")]\n",
    "   triads_df<-dcast(triads, group_id+factor+description+triad_sum~chr_group, value.var=\"normalised_triad\")\n",
    "\n",
    "\n",
    "    gs<-list()\n",
    "    movements_for_dist<-geneInformation$triadMovement[\n",
    "        geneInformation$triadMovement$dataset==dataset & \n",
    "        geneInformation$triadMovement$factor_count > min_tissues,]\n",
    "    print(nrow(movements_for_dist))\n",
    "    p<-plotHistogram(movements_for_dist, \"central_mean_distance\", probs=c(0.1,0.9), movment.colors=movment.colors)\n",
    "    gs[[length(gs)+1]] <- p\n",
    "    \n",
    "    gs[[length(gs)+1]] <- plot_movement_of_triad(triads_df, \n",
    "                                                 group_id=18634, \n",
    "                                                 group.colors=group.colors, \n",
    "                                                 mean.color = movment.colors[\"Stable\"])\n",
    "    \n",
    "    gs[[length(gs)+1]] <- plot_movement_of_triad(triads_df, \n",
    "                                                 group_id=14338,\n",
    "                                                 group.colors=group.colors,\n",
    "                                                mean.color = movment.colors[\"Dynamic\"])\n",
    "    \n",
    "    lay <- rbind(c( 1, 1),\n",
    "                 c( 2, 3)\n",
    "                 )\n",
    "\n",
    "    g2 <- arrangeGrob(grobs = gs, layout_matrix = lay, top = title)\n",
    "    g2\n",
    "}\n",
    "\n",
    "\n",
    "\n",
    "\n",
    "g<-plot_panel_3B(geneInformation)\n",
    "grid.draw(g)"
   ]
  },
  {
   "cell_type": "code",
   "execution_count": 6,
   "metadata": {
    "collapsed": false
   },
   "outputs": [
    {
     "data": {
      "text/html": [
       "<table>\n",
       "<thead><tr><th></th><th scope=col>gene</th><th scope=col>subset</th><th scope=col>category</th></tr></thead>\n",
       "<tbody>\n",
       "\t<tr><th scope=row>4313385</th><td>TraesCS1A01G002900</td><td>stress            </td><td>unique            </td></tr>\n",
       "\t<tr><th scope=row>4313407</th><td>TraesCS1A01G004000</td><td>stress            </td><td>unique            </td></tr>\n",
       "\t<tr><th scope=row>4313415</th><td>TraesCS1A01G004400</td><td>stress            </td><td>unique            </td></tr>\n",
       "\t<tr><th scope=row>4313429</th><td>TraesCS1A01G005100</td><td>stress            </td><td>unique            </td></tr>\n",
       "\t<tr><th scope=row>4313435</th><td>TraesCS1A01G005400</td><td>stress            </td><td>unique            </td></tr>\n",
       "\t<tr><th scope=row>4313451</th><td>TraesCS1A01G006200</td><td>stress            </td><td>unique            </td></tr>\n",
       "\t<tr><th scope=row>4313457</th><td>TraesCS1A01G006500</td><td>stress            </td><td>unique            </td></tr>\n",
       "\t<tr><th scope=row>4313463</th><td>TraesCS1A01G006800</td><td>stress            </td><td>unique            </td></tr>\n",
       "\t<tr><th scope=row>4313467</th><td>TraesCS1A01G007000</td><td>stress            </td><td>unique            </td></tr>\n",
       "\t<tr><th scope=row>4313469</th><td>TraesCS1A01G007100</td><td>stress            </td><td>unique            </td></tr>\n",
       "\t<tr><th scope=row>4313473</th><td>TraesCS1A01G007300</td><td>stress            </td><td>unique            </td></tr>\n",
       "\t<tr><th scope=row>4313497</th><td>TraesCS1A01G008500</td><td>stress            </td><td>unique            </td></tr>\n",
       "\t<tr><th scope=row>4313517</th><td>TraesCS1A01G009500</td><td>stress            </td><td>unique            </td></tr>\n",
       "\t<tr><th scope=row>4313519</th><td>TraesCS1A01G009600</td><td>stress            </td><td>unique            </td></tr>\n",
       "\t<tr><th scope=row>4313527</th><td>TraesCS1A01G010000</td><td>stress            </td><td>unique            </td></tr>\n",
       "\t<tr><th scope=row>4313561</th><td>TraesCS1A01G011700</td><td>stress            </td><td>unique            </td></tr>\n",
       "\t<tr><th scope=row>4313563</th><td>TraesCS1A01G011800</td><td>stress            </td><td>unique            </td></tr>\n",
       "\t<tr><th scope=row>4313571</th><td>TraesCS1A01G012200</td><td>stress            </td><td>unique            </td></tr>\n",
       "\t<tr><th scope=row>4313579</th><td>TraesCS1A01G012600</td><td>stress            </td><td>unique            </td></tr>\n",
       "\t<tr><th scope=row>4313583</th><td>TraesCS1A01G012800</td><td>stress            </td><td>unique            </td></tr>\n",
       "\t<tr><th scope=row>4313623</th><td>TraesCS1A01G014800</td><td>stress            </td><td>unique            </td></tr>\n",
       "\t<tr><th scope=row>4313639</th><td>TraesCS1A01G015600</td><td>stress            </td><td>unique            </td></tr>\n",
       "\t<tr><th scope=row>4313663</th><td>TraesCS1A01G016800</td><td>stress            </td><td>unique            </td></tr>\n",
       "\t<tr><th scope=row>4313703</th><td>TraesCS1A01G018800</td><td>stress            </td><td>unique            </td></tr>\n",
       "\t<tr><th scope=row>4313719</th><td>TraesCS1A01G019600</td><td>stress            </td><td>unique            </td></tr>\n",
       "\t<tr><th scope=row>4313741</th><td>TraesCS1A01G020700</td><td>stress            </td><td>unique            </td></tr>\n",
       "\t<tr><th scope=row>4313743</th><td>TraesCS1A01G020800</td><td>stress            </td><td>unique            </td></tr>\n",
       "\t<tr><th scope=row>4313753</th><td>TraesCS1A01G021300</td><td>stress            </td><td>unique            </td></tr>\n",
       "\t<tr><th scope=row>4313767</th><td>TraesCS1A01G022000</td><td>stress            </td><td>unique            </td></tr>\n",
       "\t<tr><th scope=row>4313779</th><td>TraesCS1A01G022600</td><td>stress            </td><td>unique            </td></tr>\n",
       "\t<tr><th scope=row>⋮</th><td>⋮</td><td>⋮</td><td>⋮</td></tr>\n",
       "\t<tr><th scope=row>731098</th><td>TraesCSU01G213500</td><td>Development      </td><td>ubiquitous       </td></tr>\n",
       "\t<tr><th scope=row>731103</th><td>TraesCSU01G218200</td><td>Development      </td><td>ubiquitous       </td></tr>\n",
       "\t<tr><th scope=row>731104</th><td>TraesCSU01G219600</td><td>Development      </td><td>ubiquitous       </td></tr>\n",
       "\t<tr><th scope=row>731107</th><td>TraesCSU01G227400</td><td>Development      </td><td>ubiquitous       </td></tr>\n",
       "\t<tr><th scope=row>731114</th><td>TraesCSU01G240500</td><td>Development      </td><td>ubiquitous       </td></tr>\n",
       "\t<tr><th scope=row>731115</th><td>TraesCSU01G242000</td><td>Development      </td><td>ubiquitous       </td></tr>\n",
       "\t<tr><th scope=row>731116</th><td>TraesCSU01G249800</td><td>Development      </td><td>ubiquitous       </td></tr>\n",
       "\t<tr><th scope=row>731123</th><td>TraesCSU01G255100</td><td>Development      </td><td>ubiquitous       </td></tr>\n",
       "\t<tr><th scope=row>731127</th><td>TraesCSU01G256700</td><td>Development      </td><td>ubiquitous       </td></tr>\n",
       "\t<tr><th scope=row>731128</th><td>TraesCSU01G258100</td><td>Development      </td><td>ubiquitous       </td></tr>\n",
       "\t<tr><th scope=row>731129</th><td>TraesCSU01G258200</td><td>Development      </td><td>ubiquitous       </td></tr>\n",
       "\t<tr><th scope=row>731130</th><td>TraesCSU01G258900</td><td>Development      </td><td>ubiquitous       </td></tr>\n",
       "\t<tr><th scope=row>731135</th><td>TraesCSU01G260400</td><td>Development      </td><td>ubiquitous       </td></tr>\n",
       "\t<tr><th scope=row>731136</th><td>TraesCSU01G260700</td><td>Development      </td><td>ubiquitous       </td></tr>\n",
       "\t<tr><th scope=row>731137</th><td>TraesCSU01G261100</td><td>Development      </td><td>ubiquitous       </td></tr>\n",
       "\t<tr><th scope=row>731140</th><td>TraesCSU01G263200</td><td>Development      </td><td>ubiquitous       </td></tr>\n",
       "\t<tr><th scope=row>731141</th><td>TraesCSU01G263300</td><td>Development      </td><td>ubiquitous       </td></tr>\n",
       "\t<tr><th scope=row>731142</th><td>TraesCSU01G263700</td><td>Development      </td><td>ubiquitous       </td></tr>\n",
       "\t<tr><th scope=row>731143</th><td>TraesCSU01G263800</td><td>Development      </td><td>ubiquitous       </td></tr>\n",
       "\t<tr><th scope=row>731144</th><td>TraesCSU01G263900</td><td>Development      </td><td>ubiquitous       </td></tr>\n",
       "\t<tr><th scope=row>731145</th><td>TraesCSU01G264700</td><td>Development      </td><td>ubiquitous       </td></tr>\n",
       "\t<tr><th scope=row>731146</th><td>TraesCSU01G265700</td><td>Development      </td><td>ubiquitous       </td></tr>\n",
       "\t<tr><th scope=row>731147</th><td>TraesCSU01G266300</td><td>Development      </td><td>ubiquitous       </td></tr>\n",
       "\t<tr><th scope=row>731148</th><td>TraesCSU01G267700</td><td>Development      </td><td>ubiquitous       </td></tr>\n",
       "\t<tr><th scope=row>731150</th><td>TraesCSU01G269900</td><td>Development      </td><td>ubiquitous       </td></tr>\n",
       "\t<tr><th scope=row>731151</th><td>TraesCSU01G270000</td><td>Development      </td><td>ubiquitous       </td></tr>\n",
       "\t<tr><th scope=row>731153</th><td>TraesCSU01G271200</td><td>Development      </td><td>ubiquitous       </td></tr>\n",
       "\t<tr><th scope=row>731154</th><td>TraesCSU01G271600</td><td>Development      </td><td>ubiquitous       </td></tr>\n",
       "\t<tr><th scope=row>731155</th><td>TraesCSU01G271800</td><td>Development      </td><td>ubiquitous       </td></tr>\n",
       "\t<tr><th scope=row>731156</th><td>TraesCSU01G272000</td><td>Development      </td><td>ubiquitous       </td></tr>\n",
       "</tbody>\n",
       "</table>\n"
      ],
      "text/latex": [
       "\\begin{tabular}{r|lll}\n",
       "  & gene & subset & category\\\\\n",
       "\\hline\n",
       "\t4313385 & TraesCS1A01G002900 & stress             & unique            \\\\\n",
       "\t4313407 & TraesCS1A01G004000 & stress             & unique            \\\\\n",
       "\t4313415 & TraesCS1A01G004400 & stress             & unique            \\\\\n",
       "\t4313429 & TraesCS1A01G005100 & stress             & unique            \\\\\n",
       "\t4313435 & TraesCS1A01G005400 & stress             & unique            \\\\\n",
       "\t4313451 & TraesCS1A01G006200 & stress             & unique            \\\\\n",
       "\t4313457 & TraesCS1A01G006500 & stress             & unique            \\\\\n",
       "\t4313463 & TraesCS1A01G006800 & stress             & unique            \\\\\n",
       "\t4313467 & TraesCS1A01G007000 & stress             & unique            \\\\\n",
       "\t4313469 & TraesCS1A01G007100 & stress             & unique            \\\\\n",
       "\t4313473 & TraesCS1A01G007300 & stress             & unique            \\\\\n",
       "\t4313497 & TraesCS1A01G008500 & stress             & unique            \\\\\n",
       "\t4313517 & TraesCS1A01G009500 & stress             & unique            \\\\\n",
       "\t4313519 & TraesCS1A01G009600 & stress             & unique            \\\\\n",
       "\t4313527 & TraesCS1A01G010000 & stress             & unique            \\\\\n",
       "\t4313561 & TraesCS1A01G011700 & stress             & unique            \\\\\n",
       "\t4313563 & TraesCS1A01G011800 & stress             & unique            \\\\\n",
       "\t4313571 & TraesCS1A01G012200 & stress             & unique            \\\\\n",
       "\t4313579 & TraesCS1A01G012600 & stress             & unique            \\\\\n",
       "\t4313583 & TraesCS1A01G012800 & stress             & unique            \\\\\n",
       "\t4313623 & TraesCS1A01G014800 & stress             & unique            \\\\\n",
       "\t4313639 & TraesCS1A01G015600 & stress             & unique            \\\\\n",
       "\t4313663 & TraesCS1A01G016800 & stress             & unique            \\\\\n",
       "\t4313703 & TraesCS1A01G018800 & stress             & unique            \\\\\n",
       "\t4313719 & TraesCS1A01G019600 & stress             & unique            \\\\\n",
       "\t4313741 & TraesCS1A01G020700 & stress             & unique            \\\\\n",
       "\t4313743 & TraesCS1A01G020800 & stress             & unique            \\\\\n",
       "\t4313753 & TraesCS1A01G021300 & stress             & unique            \\\\\n",
       "\t4313767 & TraesCS1A01G022000 & stress             & unique            \\\\\n",
       "\t4313779 & TraesCS1A01G022600 & stress             & unique            \\\\\n",
       "\t⋮ & ⋮ & ⋮ & ⋮\\\\\n",
       "\t731098 & TraesCSU01G213500 & Development       & ubiquitous       \\\\\n",
       "\t731103 & TraesCSU01G218200 & Development       & ubiquitous       \\\\\n",
       "\t731104 & TraesCSU01G219600 & Development       & ubiquitous       \\\\\n",
       "\t731107 & TraesCSU01G227400 & Development       & ubiquitous       \\\\\n",
       "\t731114 & TraesCSU01G240500 & Development       & ubiquitous       \\\\\n",
       "\t731115 & TraesCSU01G242000 & Development       & ubiquitous       \\\\\n",
       "\t731116 & TraesCSU01G249800 & Development       & ubiquitous       \\\\\n",
       "\t731123 & TraesCSU01G255100 & Development       & ubiquitous       \\\\\n",
       "\t731127 & TraesCSU01G256700 & Development       & ubiquitous       \\\\\n",
       "\t731128 & TraesCSU01G258100 & Development       & ubiquitous       \\\\\n",
       "\t731129 & TraesCSU01G258200 & Development       & ubiquitous       \\\\\n",
       "\t731130 & TraesCSU01G258900 & Development       & ubiquitous       \\\\\n",
       "\t731135 & TraesCSU01G260400 & Development       & ubiquitous       \\\\\n",
       "\t731136 & TraesCSU01G260700 & Development       & ubiquitous       \\\\\n",
       "\t731137 & TraesCSU01G261100 & Development       & ubiquitous       \\\\\n",
       "\t731140 & TraesCSU01G263200 & Development       & ubiquitous       \\\\\n",
       "\t731141 & TraesCSU01G263300 & Development       & ubiquitous       \\\\\n",
       "\t731142 & TraesCSU01G263700 & Development       & ubiquitous       \\\\\n",
       "\t731143 & TraesCSU01G263800 & Development       & ubiquitous       \\\\\n",
       "\t731144 & TraesCSU01G263900 & Development       & ubiquitous       \\\\\n",
       "\t731145 & TraesCSU01G264700 & Development       & ubiquitous       \\\\\n",
       "\t731146 & TraesCSU01G265700 & Development       & ubiquitous       \\\\\n",
       "\t731147 & TraesCSU01G266300 & Development       & ubiquitous       \\\\\n",
       "\t731148 & TraesCSU01G267700 & Development       & ubiquitous       \\\\\n",
       "\t731150 & TraesCSU01G269900 & Development       & ubiquitous       \\\\\n",
       "\t731151 & TraesCSU01G270000 & Development       & ubiquitous       \\\\\n",
       "\t731153 & TraesCSU01G271200 & Development       & ubiquitous       \\\\\n",
       "\t731154 & TraesCSU01G271600 & Development       & ubiquitous       \\\\\n",
       "\t731155 & TraesCSU01G271800 & Development       & ubiquitous       \\\\\n",
       "\t731156 & TraesCSU01G272000 & Development       & ubiquitous       \\\\\n",
       "\\end{tabular}\n"
      ],
      "text/markdown": [
       "\n",
       "| <!--/--> | gene | subset | category | \n",
       "|---|---|---|---|---|---|---|---|---|---|---|---|---|---|---|---|---|---|---|---|---|---|---|---|---|---|---|---|---|---|---|---|---|---|---|---|---|---|---|---|---|---|---|---|---|---|---|---|---|---|---|---|---|---|---|---|---|---|---|---|---|\n",
       "| 4313385 | TraesCS1A01G002900 | stress             | unique             | \n",
       "| 4313407 | TraesCS1A01G004000 | stress             | unique             | \n",
       "| 4313415 | TraesCS1A01G004400 | stress             | unique             | \n",
       "| 4313429 | TraesCS1A01G005100 | stress             | unique             | \n",
       "| 4313435 | TraesCS1A01G005400 | stress             | unique             | \n",
       "| 4313451 | TraesCS1A01G006200 | stress             | unique             | \n",
       "| 4313457 | TraesCS1A01G006500 | stress             | unique             | \n",
       "| 4313463 | TraesCS1A01G006800 | stress             | unique             | \n",
       "| 4313467 | TraesCS1A01G007000 | stress             | unique             | \n",
       "| 4313469 | TraesCS1A01G007100 | stress             | unique             | \n",
       "| 4313473 | TraesCS1A01G007300 | stress             | unique             | \n",
       "| 4313497 | TraesCS1A01G008500 | stress             | unique             | \n",
       "| 4313517 | TraesCS1A01G009500 | stress             | unique             | \n",
       "| 4313519 | TraesCS1A01G009600 | stress             | unique             | \n",
       "| 4313527 | TraesCS1A01G010000 | stress             | unique             | \n",
       "| 4313561 | TraesCS1A01G011700 | stress             | unique             | \n",
       "| 4313563 | TraesCS1A01G011800 | stress             | unique             | \n",
       "| 4313571 | TraesCS1A01G012200 | stress             | unique             | \n",
       "| 4313579 | TraesCS1A01G012600 | stress             | unique             | \n",
       "| 4313583 | TraesCS1A01G012800 | stress             | unique             | \n",
       "| 4313623 | TraesCS1A01G014800 | stress             | unique             | \n",
       "| 4313639 | TraesCS1A01G015600 | stress             | unique             | \n",
       "| 4313663 | TraesCS1A01G016800 | stress             | unique             | \n",
       "| 4313703 | TraesCS1A01G018800 | stress             | unique             | \n",
       "| 4313719 | TraesCS1A01G019600 | stress             | unique             | \n",
       "| 4313741 | TraesCS1A01G020700 | stress             | unique             | \n",
       "| 4313743 | TraesCS1A01G020800 | stress             | unique             | \n",
       "| 4313753 | TraesCS1A01G021300 | stress             | unique             | \n",
       "| 4313767 | TraesCS1A01G022000 | stress             | unique             | \n",
       "| 4313779 | TraesCS1A01G022600 | stress             | unique             | \n",
       "| ⋮ | ⋮ | ⋮ | ⋮ | \n",
       "| 731098 | TraesCSU01G213500 | Development       | ubiquitous        | \n",
       "| 731103 | TraesCSU01G218200 | Development       | ubiquitous        | \n",
       "| 731104 | TraesCSU01G219600 | Development       | ubiquitous        | \n",
       "| 731107 | TraesCSU01G227400 | Development       | ubiquitous        | \n",
       "| 731114 | TraesCSU01G240500 | Development       | ubiquitous        | \n",
       "| 731115 | TraesCSU01G242000 | Development       | ubiquitous        | \n",
       "| 731116 | TraesCSU01G249800 | Development       | ubiquitous        | \n",
       "| 731123 | TraesCSU01G255100 | Development       | ubiquitous        | \n",
       "| 731127 | TraesCSU01G256700 | Development       | ubiquitous        | \n",
       "| 731128 | TraesCSU01G258100 | Development       | ubiquitous        | \n",
       "| 731129 | TraesCSU01G258200 | Development       | ubiquitous        | \n",
       "| 731130 | TraesCSU01G258900 | Development       | ubiquitous        | \n",
       "| 731135 | TraesCSU01G260400 | Development       | ubiquitous        | \n",
       "| 731136 | TraesCSU01G260700 | Development       | ubiquitous        | \n",
       "| 731137 | TraesCSU01G261100 | Development       | ubiquitous        | \n",
       "| 731140 | TraesCSU01G263200 | Development       | ubiquitous        | \n",
       "| 731141 | TraesCSU01G263300 | Development       | ubiquitous        | \n",
       "| 731142 | TraesCSU01G263700 | Development       | ubiquitous        | \n",
       "| 731143 | TraesCSU01G263800 | Development       | ubiquitous        | \n",
       "| 731144 | TraesCSU01G263900 | Development       | ubiquitous        | \n",
       "| 731145 | TraesCSU01G264700 | Development       | ubiquitous        | \n",
       "| 731146 | TraesCSU01G265700 | Development       | ubiquitous        | \n",
       "| 731147 | TraesCSU01G266300 | Development       | ubiquitous        | \n",
       "| 731148 | TraesCSU01G267700 | Development       | ubiquitous        | \n",
       "| 731150 | TraesCSU01G269900 | Development       | ubiquitous        | \n",
       "| 731151 | TraesCSU01G270000 | Development       | ubiquitous        | \n",
       "| 731153 | TraesCSU01G271200 | Development       | ubiquitous        | \n",
       "| 731154 | TraesCSU01G271600 | Development       | ubiquitous        | \n",
       "| 731155 | TraesCSU01G271800 | Development       | ubiquitous        | \n",
       "| 731156 | TraesCSU01G272000 | Development       | ubiquitous        | \n",
       "\n",
       "\n"
      ],
      "text/plain": [
       "        gene               subset      category  \n",
       "4313385 TraesCS1A01G002900 stress      unique    \n",
       "4313407 TraesCS1A01G004000 stress      unique    \n",
       "4313415 TraesCS1A01G004400 stress      unique    \n",
       "4313429 TraesCS1A01G005100 stress      unique    \n",
       "4313435 TraesCS1A01G005400 stress      unique    \n",
       "4313451 TraesCS1A01G006200 stress      unique    \n",
       "4313457 TraesCS1A01G006500 stress      unique    \n",
       "4313463 TraesCS1A01G006800 stress      unique    \n",
       "4313467 TraesCS1A01G007000 stress      unique    \n",
       "4313469 TraesCS1A01G007100 stress      unique    \n",
       "4313473 TraesCS1A01G007300 stress      unique    \n",
       "4313497 TraesCS1A01G008500 stress      unique    \n",
       "4313517 TraesCS1A01G009500 stress      unique    \n",
       "4313519 TraesCS1A01G009600 stress      unique    \n",
       "4313527 TraesCS1A01G010000 stress      unique    \n",
       "4313561 TraesCS1A01G011700 stress      unique    \n",
       "4313563 TraesCS1A01G011800 stress      unique    \n",
       "4313571 TraesCS1A01G012200 stress      unique    \n",
       "4313579 TraesCS1A01G012600 stress      unique    \n",
       "4313583 TraesCS1A01G012800 stress      unique    \n",
       "4313623 TraesCS1A01G014800 stress      unique    \n",
       "4313639 TraesCS1A01G015600 stress      unique    \n",
       "4313663 TraesCS1A01G016800 stress      unique    \n",
       "4313703 TraesCS1A01G018800 stress      unique    \n",
       "4313719 TraesCS1A01G019600 stress      unique    \n",
       "4313741 TraesCS1A01G020700 stress      unique    \n",
       "4313743 TraesCS1A01G020800 stress      unique    \n",
       "4313753 TraesCS1A01G021300 stress      unique    \n",
       "4313767 TraesCS1A01G022000 stress      unique    \n",
       "4313779 TraesCS1A01G022600 stress      unique    \n",
       "⋮       ⋮                  ⋮           ⋮         \n",
       "731098  TraesCSU01G213500  Development ubiquitous\n",
       "731103  TraesCSU01G218200  Development ubiquitous\n",
       "731104  TraesCSU01G219600  Development ubiquitous\n",
       "731107  TraesCSU01G227400  Development ubiquitous\n",
       "731114  TraesCSU01G240500  Development ubiquitous\n",
       "731115  TraesCSU01G242000  Development ubiquitous\n",
       "731116  TraesCSU01G249800  Development ubiquitous\n",
       "731123  TraesCSU01G255100  Development ubiquitous\n",
       "731127  TraesCSU01G256700  Development ubiquitous\n",
       "731128  TraesCSU01G258100  Development ubiquitous\n",
       "731129  TraesCSU01G258200  Development ubiquitous\n",
       "731130  TraesCSU01G258900  Development ubiquitous\n",
       "731135  TraesCSU01G260400  Development ubiquitous\n",
       "731136  TraesCSU01G260700  Development ubiquitous\n",
       "731137  TraesCSU01G261100  Development ubiquitous\n",
       "731140  TraesCSU01G263200  Development ubiquitous\n",
       "731141  TraesCSU01G263300  Development ubiquitous\n",
       "731142  TraesCSU01G263700  Development ubiquitous\n",
       "731143  TraesCSU01G263800  Development ubiquitous\n",
       "731144  TraesCSU01G263900  Development ubiquitous\n",
       "731145  TraesCSU01G264700  Development ubiquitous\n",
       "731146  TraesCSU01G265700  Development ubiquitous\n",
       "731147  TraesCSU01G266300  Development ubiquitous\n",
       "731148  TraesCSU01G267700  Development ubiquitous\n",
       "731150  TraesCSU01G269900  Development ubiquitous\n",
       "731151  TraesCSU01G270000  Development ubiquitous\n",
       "731153  TraesCSU01G271200  Development ubiquitous\n",
       "731154  TraesCSU01G271600  Development ubiquitous\n",
       "731155  TraesCSU01G271800  Development ubiquitous\n",
       "731156  TraesCSU01G272000  Development ubiquitous"
      ]
     },
     "metadata": {},
     "output_type": "display_data"
    }
   ],
   "source": [
    "get_unique_and_ubiquitous<-function(geneInformation){\n",
    "    genes_per_factor<-geneInformation$meanTpms[]\n",
    "    genes_per_factor<-genes_per_factor[genes_per_factor$factor == \"all_mean_filter\",]\n",
    "    unique<-genes_per_factor[genes_per_factor$samples==1,c(\"gene\", \"subset\")]\n",
    "    \n",
    "    max_values <- aggregate(samples ~ subset, data = genes_per_factor, max)\n",
    "    ubiquitous <- sqldf(\"SELECT gene, max_values.subset FROM genes_per_factor JOIN \n",
    "max_values ON genes_per_factor.subset = max_values.subset AND\n",
    "genes_per_factor.samples = max_values.samples\")\n",
    "    \n",
    "\n",
    "    unique$category <- \"unique\"\n",
    "    ubiquitous$category <- \"ubiquitous\"\n",
    "    genes<-rbind(unique, ubiquitous)\n",
    "    genes<-genes[!endsWith(genes$gene,\"LC\"),]\n",
    "    genes\n",
    "}\n",
    "ubiquitous_unique<-get_unique_and_ubiquitous(geneInformation)\n",
    "ubiquitous_unique"
   ]
  },
  {
   "cell_type": "code",
   "execution_count": 7,
   "metadata": {
    "collapsed": false
   },
   "outputs": [
    {
     "name": "stderr",
     "output_type": "stream",
     "text": [
      "Warning message in dir.create(dir_path, recursive = T):\n",
      "“'gene_set_files/UniqueUbiquitous/stress' already exists”"
     ]
    },
    {
     "name": "stdout",
     "output_type": "stream",
     "text": [
      "[1] \"stress_unique\"\n",
      "[1] \"stress_ubiquitous\"\n"
     ]
    },
    {
     "name": "stderr",
     "output_type": "stream",
     "text": [
      "Warning message in dir.create(dir_path, recursive = T):\n",
      "“'gene_set_files/UniqueUbiquitous/disease_stress' already exists”"
     ]
    },
    {
     "name": "stdout",
     "output_type": "stream",
     "text": [
      "[1] \"disease_stress_unique\"\n",
      "[1] \"disease_stress_ubiquitous\"\n"
     ]
    },
    {
     "name": "stderr",
     "output_type": "stream",
     "text": [
      "Warning message in dir.create(dir_path, recursive = T):\n",
      "“'gene_set_files/UniqueUbiquitous/abiotic_stress' already exists”"
     ]
    },
    {
     "name": "stdout",
     "output_type": "stream",
     "text": [
      "[1] \"abiotic_stress_unique\"\n",
      "[1] \"abiotic_stress_ubiquitous\"\n"
     ]
    },
    {
     "name": "stderr",
     "output_type": "stream",
     "text": [
      "Warning message in dir.create(dir_path, recursive = T):\n",
      "“'gene_set_files/UniqueUbiquitous/disease_stress_control' already exists”"
     ]
    },
    {
     "name": "stdout",
     "output_type": "stream",
     "text": [
      "[1] \"disease_stress_control_unique\"\n",
      "[1] \"disease_stress_control_ubiquitous\"\n"
     ]
    },
    {
     "name": "stderr",
     "output_type": "stream",
     "text": [
      "Warning message in dir.create(dir_path, recursive = T):\n",
      "“'gene_set_files/UniqueUbiquitous/abiotic_stress_control' already exists”"
     ]
    },
    {
     "name": "stdout",
     "output_type": "stream",
     "text": [
      "[1] \"abiotic_stress_control_unique\"\n",
      "[1] \"abiotic_stress_control_ubiquitous\"\n"
     ]
    },
    {
     "name": "stderr",
     "output_type": "stream",
     "text": [
      "Warning message in dir.create(dir_path, recursive = T):\n",
      "“'gene_set_files/UniqueUbiquitous/stress_control' already exists”"
     ]
    },
    {
     "name": "stdout",
     "output_type": "stream",
     "text": [
      "[1] \"stress_control_unique\"\n",
      "[1] \"stress_control_ubiquitous\"\n"
     ]
    },
    {
     "name": "stderr",
     "output_type": "stream",
     "text": [
      "Warning message in dir.create(dir_path, recursive = T):\n",
      "“'gene_set_files/UniqueUbiquitous/disease_merged_control' already exists”"
     ]
    },
    {
     "name": "stdout",
     "output_type": "stream",
     "text": [
      "[1] \"disease_merged_control_unique\"\n",
      "[1] \"disease_merged_control_ubiquitous\"\n"
     ]
    },
    {
     "name": "stderr",
     "output_type": "stream",
     "text": [
      "Warning message in dir.create(dir_path, recursive = T):\n",
      "“'gene_set_files/UniqueUbiquitous/abiotic_merged_control' already exists”"
     ]
    },
    {
     "name": "stdout",
     "output_type": "stream",
     "text": [
      "[1] \"abiotic_merged_control_unique\"\n",
      "[1] \"abiotic_merged_control_ubiquitous\"\n"
     ]
    },
    {
     "name": "stderr",
     "output_type": "stream",
     "text": [
      "Warning message in dir.create(dir_path, recursive = T):\n",
      "“'gene_set_files/UniqueUbiquitous/spike' already exists”"
     ]
    },
    {
     "name": "stdout",
     "output_type": "stream",
     "text": [
      "[1] \"spike_unique\"\n",
      "[1] \"spike_ubiquitous\"\n"
     ]
    },
    {
     "name": "stderr",
     "output_type": "stream",
     "text": [
      "Warning message in dir.create(dir_path, recursive = T):\n",
      "“'gene_set_files/UniqueUbiquitous/root' already exists”"
     ]
    },
    {
     "name": "stdout",
     "output_type": "stream",
     "text": [
      "[1] \"root_unique\"\n",
      "[1] \"root_ubiquitous\"\n"
     ]
    },
    {
     "name": "stderr",
     "output_type": "stream",
     "text": [
      "Warning message in dir.create(dir_path, recursive = T):\n",
      "“'gene_set_files/UniqueUbiquitous/leaf' already exists”"
     ]
    },
    {
     "name": "stdout",
     "output_type": "stream",
     "text": [
      "[1] \"leaf_unique\"\n",
      "[1] \"leaf_ubiquitous\"\n"
     ]
    },
    {
     "name": "stderr",
     "output_type": "stream",
     "text": [
      "Warning message in dir.create(dir_path, recursive = T):\n",
      "“'gene_set_files/UniqueUbiquitous/grain' already exists”"
     ]
    },
    {
     "name": "stdout",
     "output_type": "stream",
     "text": [
      "[1] \"grain_unique\"\n",
      "[1] \"grain_ubiquitous\"\n"
     ]
    },
    {
     "name": "stderr",
     "output_type": "stream",
     "text": [
      "Warning message in dir.create(dir_path, recursive = T):\n",
      "“'gene_set_files/UniqueUbiquitous/disease' already exists”"
     ]
    },
    {
     "name": "stdout",
     "output_type": "stream",
     "text": [
      "[1] \"disease_unique\"\n",
      "[1] \"disease_ubiquitous\"\n"
     ]
    },
    {
     "name": "stderr",
     "output_type": "stream",
     "text": [
      "Warning message in dir.create(dir_path, recursive = T):\n",
      "“'gene_set_files/UniqueUbiquitous/abiotic' already exists”"
     ]
    },
    {
     "name": "stdout",
     "output_type": "stream",
     "text": [
      "[1] \"abiotic_unique\"\n",
      "[1] \"abiotic_ubiquitous\"\n"
     ]
    },
    {
     "name": "stderr",
     "output_type": "stream",
     "text": [
      "Warning message in dir.create(dir_path, recursive = T):\n",
      "“'gene_set_files/UniqueUbiquitous/CS_NB_inc_stress' already exists”"
     ]
    },
    {
     "name": "stdout",
     "output_type": "stream",
     "text": [
      "[1] \"CS_NB_inc_stress_unique\"\n",
      "[1] \"CS_NB_inc_stress_ubiquitous\"\n"
     ]
    },
    {
     "name": "stderr",
     "output_type": "stream",
     "text": [
      "Warning message in dir.create(dir_path, recursive = T):\n",
      "“'gene_set_files/UniqueUbiquitous/CS_no_stress' already exists”"
     ]
    },
    {
     "name": "stdout",
     "output_type": "stream",
     "text": [
      "[1] \"CS_no_stress_unique\"\n",
      "[1] \"CS_no_stress_ubiquitous\"\n"
     ]
    },
    {
     "name": "stderr",
     "output_type": "stream",
     "text": [
      "Warning message in dir.create(dir_path, recursive = T):\n",
      "“'gene_set_files/UniqueUbiquitous/850_samples' already exists”"
     ]
    },
    {
     "name": "stdout",
     "output_type": "stream",
     "text": [
      "[1] \"850_samples_unique\"\n",
      "[1] \"850_samples_ubiquitous\"\n"
     ]
    },
    {
     "name": "stderr",
     "output_type": "stream",
     "text": [
      "Warning message in dir.create(dir_path, recursive = T):\n",
      "“'gene_set_files/UniqueUbiquitous/Development' already exists”"
     ]
    },
    {
     "name": "stdout",
     "output_type": "stream",
     "text": [
      "[1] \"Development_unique\"\n",
      "[1] \"Development_ubiquitous\"\n"
     ]
    }
   ],
   "source": [
    "for(dataset in unique(ubiquitous_unique$subset)){\n",
    "    dir_path <- paste0(\"gene_set_files/UniqueUbiquitous/\",dataset,\"/\")\n",
    "    dir.create(dir_path, recursive=T)\n",
    "    gene_cats <- ubiquitous_unique[ubiquitous_unique$subset == dataset,]\n",
    "    for(cat in unique(gene_cats$category)){\n",
    "        name<-paste0(dataset,\"_\",cat)\n",
    "        print(name)\n",
    "        genes_to_plot<-gene_cats[gene_cats$category == cat, \"gene\"]\n",
    "    \n",
    "        write.csv(genes_to_plot, file=paste0(dir_path,name,\".txt\"), \n",
    "                  row.names=F)\n",
    "    }\n",
    "    \n",
    "}\n"
   ]
  },
  {
   "cell_type": "code",
   "execution_count": 8,
   "metadata": {
    "collapsed": false
   },
   "outputs": [
    {
     "data": {
      "text/html": [
       "<ol class=list-inline>\n",
       "\t<li>'B.suppressed'</li>\n",
       "\t<li>'Central'</li>\n",
       "\t<li>'Central'</li>\n",
       "\t<li>'B.suppressed'</li>\n",
       "\t<li>'A.suppressed'</li>\n",
       "\t<li>'Central'</li>\n",
       "</ol>\n"
      ],
      "text/latex": [
       "\\begin{enumerate*}\n",
       "\\item 'B.suppressed'\n",
       "\\item 'Central'\n",
       "\\item 'Central'\n",
       "\\item 'B.suppressed'\n",
       "\\item 'A.suppressed'\n",
       "\\item 'Central'\n",
       "\\end{enumerate*}\n"
      ],
      "text/markdown": [
       "1. 'B.suppressed'\n",
       "2. 'Central'\n",
       "3. 'Central'\n",
       "4. 'B.suppressed'\n",
       "5. 'A.suppressed'\n",
       "6. 'Central'\n",
       "\n",
       "\n"
      ],
      "text/plain": [
       "[1] \"B.suppressed\" \"Central\"      \"Central\"      \"B.suppressed\" \"A.suppressed\"\n",
       "[6] \"Central\"     "
      ]
     },
     "metadata": {},
     "output_type": "display_data"
    }
   ],
   "source": [
    "getGenesForCaregory<-function(geneInformation, \n",
    "                                 dataset=\"HC_CS_no_stress\", \n",
    "                                min_factor_count=5){\n",
    "    \n",
    "    triadMovement<-geneInformation$triadMovement\n",
    "    triads<-geneInformation$triads\n",
    "    local_tm <- triadMovement[triadMovement$dataset == dataset & \n",
    "                              triadMovement$factor_count > min_factor_count ,\n",
    "                             c(\"group_id\",\"category\")]\n",
    "    \n",
    "    \n",
    "    groups<-local_tm\n",
    "    genes<-sqldf(\"SELECT DISTINCT gene, category from groups JOIN triads ON \n",
    "triads.group_id = groups.group_id\")\n",
    "    genes\n",
    "}\n",
    "\n",
    "#colnames(geneInformation$triadMovement)\n",
    "head(geneInformation$triadMovement$category)\n",
    "test_categories<-getGenesForCaregory(geneInformation)"
   ]
  },
  {
   "cell_type": "code",
   "execution_count": null,
   "metadata": {
    "collapsed": false
   },
   "outputs": [],
   "source": []
  },
  {
   "cell_type": "code",
   "execution_count": null,
   "metadata": {
    "collapsed": false
   },
   "outputs": [],
   "source": []
  },
  {
   "cell_type": "code",
   "execution_count": null,
   "metadata": {
    "collapsed": false
   },
   "outputs": [],
   "source": []
  },
  {
   "cell_type": "code",
   "execution_count": null,
   "metadata": {
    "collapsed": false
   },
   "outputs": [
    {
     "name": "stderr",
     "output_type": "stream",
     "text": [
      "Warning message in dir.create(dir_path, recursive = T):\n",
      "“'gene_set_files/movement/HC_Development' already exists”"
     ]
    },
    {
     "name": "stdout",
     "output_type": "stream",
     "text": [
      "[1] \"HC_Development_movement_B.suppressed\"\n",
      "[1] \"HC_Development_movement_Central\"\n",
      "[1] \"HC_Development_movement_A.suppressed\"\n",
      "[1] \"HC_Development_movement_B.dominant\"\n",
      "[1] \"HC_Development_movement_A.dominant\"\n",
      "[1] \"HC_Development_movement_D.suppressed\"\n",
      "[1] \"HC_Development_movement_D.dominant\"\n"
     ]
    },
    {
     "name": "stderr",
     "output_type": "stream",
     "text": [
      "Warning message in dir.create(dir_path, recursive = T):\n",
      "“'gene_set_files/movement/HC_850_samples' already exists”"
     ]
    },
    {
     "name": "stdout",
     "output_type": "stream",
     "text": [
      "[1] \"HC_850_samples_movement_B.suppressed\"\n",
      "[1] \"HC_850_samples_movement_Central\"\n",
      "[1] \"HC_850_samples_movement_D.suppressed\"\n",
      "[1] \"HC_850_samples_movement_A.suppressed\"\n",
      "[1] \"HC_850_samples_movement_B.dominant\"\n",
      "[1] \"HC_850_samples_movement_A.dominant\"\n",
      "[1] \"HC_850_samples_movement_D.dominant\"\n"
     ]
    },
    {
     "name": "stderr",
     "output_type": "stream",
     "text": [
      "Warning message in dir.create(dir_path, recursive = T):\n",
      "“'gene_set_files/movement/HC_CS_no_stress' already exists”"
     ]
    },
    {
     "name": "stdout",
     "output_type": "stream",
     "text": [
      "[1] \"HC_CS_no_stress_movement_Central\"\n",
      "[1] \"HC_CS_no_stress_movement_A.dominant\"\n",
      "[1] \"HC_CS_no_stress_movement_A.suppressed\"\n",
      "[1] \"HC_CS_no_stress_movement_B.dominant\"\n",
      "[1] \"HC_CS_no_stress_movement_D.suppressed\"\n",
      "[1] \"HC_CS_no_stress_movement_B.suppressed\"\n",
      "[1] \"HC_CS_no_stress_movement_D.dominant\"\n"
     ]
    },
    {
     "name": "stderr",
     "output_type": "stream",
     "text": [
      "Warning message in dir.create(dir_path, recursive = T):\n",
      "“'gene_set_files/movement/HC_CS_NB_inc_stress' already exists”"
     ]
    },
    {
     "name": "stdout",
     "output_type": "stream",
     "text": [
      "[1] \"HC_CS_NB_inc_stress_movement_Central\"\n",
      "[1] \"HC_CS_NB_inc_stress_movement_A.dominant\"\n",
      "[1] \"HC_CS_NB_inc_stress_movement_B.dominant\"\n",
      "[1] \"HC_CS_NB_inc_stress_movement_A.suppressed\"\n",
      "[1] \"HC_CS_NB_inc_stress_movement_D.suppressed\"\n",
      "[1] \"HC_CS_NB_inc_stress_movement_B.suppressed\"\n",
      "[1] \"HC_CS_NB_inc_stress_movement_D.dominant\"\n"
     ]
    },
    {
     "name": "stderr",
     "output_type": "stream",
     "text": [
      "Warning message in dir.create(dir_path, recursive = T):\n",
      "“'gene_set_files/movement/HC_abiotic' already exists”"
     ]
    },
    {
     "name": "stdout",
     "output_type": "stream",
     "text": [
      "[1] \"HC_abiotic_movement_Central\"\n",
      "[1] \"HC_abiotic_movement_B.dominant\"\n",
      "[1] \"HC_abiotic_movement_B.suppressed\"\n",
      "[1] \"HC_abiotic_movement_D.dominant\"\n",
      "[1] \"HC_abiotic_movement_D.suppressed\"\n",
      "[1] \"HC_abiotic_movement_A.suppressed\"\n",
      "[1] \"HC_abiotic_movement_A.dominant\"\n"
     ]
    },
    {
     "name": "stderr",
     "output_type": "stream",
     "text": [
      "Warning message in dir.create(dir_path, recursive = T):\n",
      "“'gene_set_files/movement/HC_disease' already exists”"
     ]
    },
    {
     "name": "stdout",
     "output_type": "stream",
     "text": [
      "[1] \"HC_disease_movement_Central\"\n",
      "[1] \"HC_disease_movement_B.dominant\"\n",
      "[1] \"HC_disease_movement_A.suppressed\"\n",
      "[1] \"HC_disease_movement_A.dominant\"\n",
      "[1] \"HC_disease_movement_D.suppressed\"\n",
      "[1] \"HC_disease_movement_B.suppressed\"\n",
      "[1] \"HC_disease_movement_D.dominant\"\n"
     ]
    },
    {
     "name": "stderr",
     "output_type": "stream",
     "text": [
      "Warning message in dir.create(dir_path, recursive = T):\n",
      "“'gene_set_files/movement/HC_grain' already exists”"
     ]
    },
    {
     "name": "stdout",
     "output_type": "stream",
     "text": [
      "[1] \"HC_grain_movement_Central\"\n",
      "[1] \"HC_grain_movement_B.suppressed\"\n",
      "[1] \"HC_grain_movement_A.suppressed\"\n",
      "[1] \"HC_grain_movement_B.dominant\"\n",
      "[1] \"HC_grain_movement_A.dominant\"\n",
      "[1] \"HC_grain_movement_D.suppressed\"\n",
      "[1] \"HC_grain_movement_D.dominant\"\n"
     ]
    },
    {
     "name": "stderr",
     "output_type": "stream",
     "text": [
      "Warning message in dir.create(dir_path, recursive = T):\n",
      "“'gene_set_files/movement/HC_leaf' already exists”"
     ]
    },
    {
     "name": "stdout",
     "output_type": "stream",
     "text": [
      "[1] \"HC_leaf_movement_Central\"\n",
      "[1] \"HC_leaf_movement_B.suppressed\"\n",
      "[1] \"HC_leaf_movement_B.dominant\"\n",
      "[1] \"HC_leaf_movement_A.dominant\"\n",
      "[1] \"HC_leaf_movement_D.dominant\"\n",
      "[1] \"HC_leaf_movement_A.suppressed\"\n",
      "[1] \"HC_leaf_movement_D.suppressed\"\n"
     ]
    },
    {
     "name": "stderr",
     "output_type": "stream",
     "text": [
      "Warning message in dir.create(dir_path, recursive = T):\n",
      "“'gene_set_files/movement/HC_root' already exists”"
     ]
    }
   ],
   "source": [
    "for(dataset in unique(geneInformation$triadMovement$dataset)){\n",
    "    dir_path <- paste0(\"gene_set_files/movement/\",dataset,\"/\")\n",
    "    dir.create(dir_path, recursive=T)\n",
    "    gene_cats <- getGenesForCaregory(geneInformation, \n",
    "                                     dataset=dataset, \n",
    "                                     min_factor_count = 5)\n",
    "    for(cat in unique(gene_cats$category)){\n",
    "        name<-paste0(dataset,\"_movement_\",cat)\n",
    "        print(name)\n",
    "        genes_to_plot<-gene_cats[gene_cats$category == cat, \"gene\"]\n",
    "    \n",
    "        write.csv(genes_to_plot, file=paste0(dir_path,name,\".txt\"), \n",
    "                  row.names=F)\n",
    "    }\n",
    "    \n",
    "}\n",
    "\n"
   ]
  },
  {
   "cell_type": "code",
   "execution_count": null,
   "metadata": {
    "collapsed": false
   },
   "outputs": [],
   "source": []
  },
  {
   "cell_type": "code",
   "execution_count": null,
   "metadata": {
    "collapsed": false
   },
   "outputs": [],
   "source": []
  },
  {
   "cell_type": "code",
   "execution_count": null,
   "metadata": {
    "collapsed": false
   },
   "outputs": [],
   "source": []
  },
  {
   "cell_type": "code",
   "execution_count": null,
   "metadata": {
    "collapsed": false
   },
   "outputs": [],
   "source": []
  },
  {
   "cell_type": "code",
   "execution_count": null,
   "metadata": {
    "collapsed": false
   },
   "outputs": [],
   "source": []
  },
  {
   "cell_type": "code",
   "execution_count": null,
   "metadata": {
    "collapsed": false
   },
   "outputs": [],
   "source": []
  },
  {
   "cell_type": "code",
   "execution_count": null,
   "metadata": {
    "collapsed": false
   },
   "outputs": [],
   "source": []
  },
  {
   "cell_type": "code",
   "execution_count": null,
   "metadata": {
    "collapsed": false
   },
   "outputs": [],
   "source": []
  },
  {
   "cell_type": "code",
   "execution_count": 28,
   "metadata": {
    "collapsed": false
   },
   "outputs": [],
   "source": []
  },
  {
   "cell_type": "code",
   "execution_count": 29,
   "metadata": {
    "collapsed": true
   },
   "outputs": [],
   "source": []
  },
  {
   "cell_type": "code",
   "execution_count": null,
   "metadata": {
    "collapsed": false
   },
   "outputs": [],
   "source": []
  },
  {
   "cell_type": "code",
   "execution_count": null,
   "metadata": {
    "collapsed": false
   },
   "outputs": [],
   "source": []
  },
  {
   "cell_type": "code",
   "execution_count": null,
   "metadata": {
    "collapsed": false
   },
   "outputs": [],
   "source": []
  },
  {
   "cell_type": "code",
   "execution_count": null,
   "metadata": {
    "collapsed": false
   },
   "outputs": [],
   "source": []
  },
  {
   "cell_type": "code",
   "execution_count": null,
   "metadata": {
    "collapsed": false
   },
   "outputs": [],
   "source": []
  },
  {
   "cell_type": "code",
   "execution_count": 35,
   "metadata": {
    "collapsed": true
   },
   "outputs": [],
   "source": []
  },
  {
   "cell_type": "code",
   "execution_count": null,
   "metadata": {
    "collapsed": true
   },
   "outputs": [],
   "source": []
  },
  {
   "cell_type": "code",
   "execution_count": null,
   "metadata": {
    "collapsed": true
   },
   "outputs": [],
   "source": []
  },
  {
   "cell_type": "code",
   "execution_count": null,
   "metadata": {
    "collapsed": true
   },
   "outputs": [],
   "source": []
  }
 ],
 "metadata": {
  "kernelspec": {
   "display_name": "R",
   "language": "R",
   "name": "ir"
  },
  "language_info": {
   "codemirror_mode": "r",
   "file_extension": ".r",
   "mimetype": "text/x-r-source",
   "name": "R",
   "pygments_lexer": "r",
   "version": "3.3.2"
  }
 },
 "nbformat": 4,
 "nbformat_minor": 2
}
